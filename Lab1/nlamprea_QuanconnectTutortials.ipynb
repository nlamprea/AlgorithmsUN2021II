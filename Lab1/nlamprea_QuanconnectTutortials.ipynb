{
  "nbformat": 4,
  "nbformat_minor": 0,
  "metadata": {
    "colab": {
      "name": "nlamprea_QuanconnectTutortials.ipynb",
      "provenance": [],
      "collapsed_sections": [
        "OYBDezmXEYWc",
        "aZZYP-VfE9TL",
        "tHveg_IULS_E",
        "RHR1SHwMUW28",
        "g-hoKYcceiyc"
      ]
    },
    "kernelspec": {
      "name": "python3",
      "display_name": "Python 3"
    },
    "language_info": {
      "name": "python"
    }
  },
  "cells": [
    {
      "cell_type": "markdown",
      "metadata": {
        "id": "OYBDezmXEYWc"
      },
      "source": [
        "# 1. Data Types and Data Structures"
      ]
    },
    {
      "cell_type": "markdown",
      "metadata": {
        "id": "8Ias257tIagx"
      },
      "source": [
        "## 1.1 Basic Variable Types"
      ]
    },
    {
      "cell_type": "markdown",
      "metadata": {
        "id": "28jQooQEJNsf"
      },
      "source": [
        "###String"
      ]
    },
    {
      "cell_type": "code",
      "metadata": {
        "colab": {
          "base_uri": "https://localhost:8080/"
        },
        "id": "9IGOYlpE761h",
        "outputId": "c3560bf6-cf40-445f-81e4-32b0d973e51a"
      },
      "source": [
        "my_string1 = 'Bienvenido a '\n",
        "my_string2 = \"QuantConnect\"\n",
        "print(my_string1 + ' ' + my_string2)\n",
        "\n"
      ],
      "execution_count": null,
      "outputs": [
        {
          "output_type": "stream",
          "name": "stdout",
          "text": [
            "Bienvenido a  QuantConnect\n"
          ]
        }
      ]
    },
    {
      "cell_type": "markdown",
      "metadata": {
        "id": "8YLzuk1xJY5v"
      },
      "source": [
        "###Int"
      ]
    },
    {
      "cell_type": "code",
      "metadata": {
        "colab": {
          "base_uri": "https://localhost:8080/"
        },
        "id": "XT3stoQZJcfW",
        "outputId": "0e88ad31-5f13-43e9-ba03-1fbbb2bca366"
      },
      "source": [
        "my_int = 233\n",
        "print(my_int)"
      ],
      "execution_count": null,
      "outputs": [
        {
          "output_type": "stream",
          "name": "stdout",
          "text": [
            "233\n"
          ]
        }
      ]
    },
    {
      "cell_type": "markdown",
      "metadata": {
        "id": "kEP5ImKLJsSA"
      },
      "source": [
        "######Imprimir el tipo de dato"
      ]
    },
    {
      "cell_type": "code",
      "metadata": {
        "colab": {
          "base_uri": "https://localhost:8080/"
        },
        "id": "Bl6vgZ4wKBQI",
        "outputId": "c40a7818-ef0b-4cb8-cf14-d862848ff1c1"
      },
      "source": [
        "print(type(my_int))"
      ],
      "execution_count": null,
      "outputs": [
        {
          "output_type": "stream",
          "name": "stdout",
          "text": [
            "<class 'int'>\n"
          ]
        }
      ]
    },
    {
      "cell_type": "markdown",
      "metadata": {
        "id": "d5Bztp9cKTTQ"
      },
      "source": [
        "######Convertir de string a Int"
      ]
    },
    {
      "cell_type": "code",
      "metadata": {
        "colab": {
          "base_uri": "https://localhost:8080/"
        },
        "id": "lKsr6mNGKjjH",
        "outputId": "0fe0210e-ba18-499b-8931-b9bed7506c87"
      },
      "source": [
        "my_string = \"100\"\n",
        "print(type(my_string))\n"
      ],
      "execution_count": null,
      "outputs": [
        {
          "output_type": "stream",
          "name": "stdout",
          "text": [
            "<class 'str'>\n"
          ]
        }
      ]
    },
    {
      "cell_type": "code",
      "metadata": {
        "colab": {
          "base_uri": "https://localhost:8080/"
        },
        "id": "udgJ2DlzKla3",
        "outputId": "d0701c4e-3e9f-43d1-83f6-6d8e48064f1e"
      },
      "source": [
        "my_int = int(my_string)\n",
        "print(type(my_int))\n",
        "print(my_int)"
      ],
      "execution_count": null,
      "outputs": [
        {
          "output_type": "stream",
          "name": "stdout",
          "text": [
            "<class 'int'>\n",
            "100\n"
          ]
        }
      ]
    },
    {
      "cell_type": "markdown",
      "metadata": {
        "id": "PfHcxFRILCjJ"
      },
      "source": [
        "###Float"
      ]
    },
    {
      "cell_type": "code",
      "metadata": {
        "colab": {
          "base_uri": "https://localhost:8080/"
        },
        "id": "YHuWdKO7Mhmo",
        "outputId": "da1a1482-b56c-4fb7-8070-a24a59e92e80"
      },
      "source": [
        "my_float = 15.0\n",
        "print(my_float)\n",
        "print(type(my_float))"
      ],
      "execution_count": null,
      "outputs": [
        {
          "output_type": "stream",
          "name": "stdout",
          "text": [
            "15.0\n",
            "<class 'float'>\n"
          ]
        }
      ]
    },
    {
      "cell_type": "markdown",
      "metadata": {
        "id": "8w5mU2UVOHjn"
      },
      "source": [
        "######Convertir de string a Float"
      ]
    },
    {
      "cell_type": "code",
      "metadata": {
        "colab": {
          "base_uri": "https://localhost:8080/"
        },
        "id": "iYQltIRdOHwn",
        "outputId": "5b0f28cf-247d-4aa0-f4db-0ee51bc10350"
      },
      "source": [
        "my_string = \"1000.55\"\n",
        "my_float = float(my_string)\n",
        "print(type(my_float))\n",
        "print(my_float)"
      ],
      "execution_count": null,
      "outputs": [
        {
          "output_type": "stream",
          "name": "stdout",
          "text": [
            "<class 'float'>\n",
            "1000.55\n"
          ]
        }
      ]
    },
    {
      "cell_type": "markdown",
      "metadata": {
        "id": "X5a4PTRgOWzg"
      },
      "source": [
        "###Boolean"
      ]
    },
    {
      "cell_type": "code",
      "metadata": {
        "colab": {
          "base_uri": "https://localhost:8080/"
        },
        "id": "72whB6aOPF4A",
        "outputId": "25fe85db-7b2e-48a5-b0ac-c07b4cfbb33d"
      },
      "source": [
        "my_bool = True\n",
        "print(my_bool)\n",
        "print(type(my_bool))"
      ],
      "execution_count": null,
      "outputs": [
        {
          "output_type": "stream",
          "name": "stdout",
          "text": [
            "True\n",
            "<class 'bool'>\n"
          ]
        }
      ]
    },
    {
      "cell_type": "markdown",
      "metadata": {
        "id": "29IHRUa9PZgY"
      },
      "source": [
        "## 1.2 Basic Math Operations"
      ]
    },
    {
      "cell_type": "code",
      "metadata": {
        "colab": {
          "base_uri": "https://localhost:8080/"
        },
        "id": "_7nIYvHZPeA3",
        "outputId": "f575ee33-9d13-475b-9b73-7c8ed59acfc0"
      },
      "source": [
        "print(\"Addition/suma: \", 10+1)\n",
        "print(\"Subtraction/resta: \", 5-9)\n",
        "print(\"Multiplication/multiplicación: \", 8*3)\n",
        "print(\"Division/división: \", 25/2)\n",
        "print(\"exponent/exponencial: \", 3**3)"
      ],
      "execution_count": null,
      "outputs": [
        {
          "output_type": "stream",
          "name": "stdout",
          "text": [
            "Addition/suma:  11\n",
            "Subtraction/resta:  -4\n",
            "Multiplication/multiplicación:  24\n",
            "Division/división:  12.5\n",
            "exponent/exponencial:  27\n"
          ]
        }
      ]
    },
    {
      "cell_type": "markdown",
      "metadata": {
        "id": "1stXDVV8P0t3"
      },
      "source": [
        "## 1.3 Data Collections"
      ]
    },
    {
      "cell_type": "markdown",
      "metadata": {
        "id": "cMm0Ud-uQezw"
      },
      "source": [
        "###Python List"
      ]
    },
    {
      "cell_type": "code",
      "metadata": {
        "colab": {
          "base_uri": "https://localhost:8080/"
        },
        "id": "YR_N2nDbP52P",
        "outputId": "c22abcd9-b102-4cac-9a06-23958c29abaa"
      },
      "source": [
        "my_list = ['Quant', 'Connect', 1,2,3]\n",
        "print(my_list)"
      ],
      "execution_count": null,
      "outputs": [
        {
          "output_type": "stream",
          "name": "stdout",
          "text": [
            "['Quant', 'Connect', 1, 2, 3]\n"
          ]
        }
      ]
    },
    {
      "cell_type": "code",
      "metadata": {
        "colab": {
          "base_uri": "https://localhost:8080/"
        },
        "id": "G6NOU0b9RLpg",
        "outputId": "3a863c9a-7d3d-4ca2-e707-9a9a7fa0305e"
      },
      "source": [
        "my_list = ['Quant', 'Connect', 1,2,3]\n",
        "print(\"Cantidad de elementos en la lista:\", len(my_list))\n",
        "\n",
        "print(\"Elemento de la lista:\", my_list[1])\n",
        "\n",
        "print(\"Ultimo elemento de la lista:\", my_list[len(my_list) - 1])"
      ],
      "execution_count": null,
      "outputs": [
        {
          "output_type": "stream",
          "name": "stdout",
          "text": [
            "Cantidad de elementos en la lista: 5\n",
            "Elemento de la lista: Connect\n",
            "Ultimo elemento de la lista: 3\n"
          ]
        }
      ]
    },
    {
      "cell_type": "markdown",
      "metadata": {
        "id": "l2FOxhIJSPLA"
      },
      "source": [
        "Cambiar un elemento a la lista"
      ]
    },
    {
      "cell_type": "code",
      "metadata": {
        "colab": {
          "base_uri": "https://localhost:8080/"
        },
        "id": "ZP_wCgz7SMRB",
        "outputId": "8491b016-9215-4bb5-9e5f-ab9ed39ed591"
      },
      "source": [
        "my_list[2] = 'go'\n",
        "print(my_list)"
      ],
      "execution_count": null,
      "outputs": [
        {
          "output_type": "stream",
          "name": "stdout",
          "text": [
            "['Quant', 'Connect', 'go', 2, 3]\n"
          ]
        }
      ]
    },
    {
      "cell_type": "markdown",
      "metadata": {
        "id": "Im86w28lSeYw"
      },
      "source": [
        "Imprimir más de un elemento de la lista (comienza desde el primer elemento indicado, pero excluye el último elemento indicado)"
      ]
    },
    {
      "cell_type": "code",
      "metadata": {
        "colab": {
          "base_uri": "https://localhost:8080/"
        },
        "id": "0yGBxTYZSj7w",
        "outputId": "252b3cf0-0fad-4157-b868-9cc334ab081c"
      },
      "source": [
        "print(my_list[0:3])\n",
        "print(my_list[1:])"
      ],
      "execution_count": null,
      "outputs": [
        {
          "output_type": "stream",
          "name": "stdout",
          "text": [
            "['Quant', 'Connect', 'go']\n",
            "['Connect', 'go', 2, 3]\n"
          ]
        }
      ]
    },
    {
      "cell_type": "markdown",
      "metadata": {
        "id": "NAIbkQisT0Gb"
      },
      "source": [
        "Agregar y Eliminar elementos de la lista"
      ]
    },
    {
      "cell_type": "code",
      "metadata": {
        "colab": {
          "base_uri": "https://localhost:8080/"
        },
        "id": "aO2L0E2yTB2w",
        "outputId": "c943dc11-cded-421c-b128-1ea63bbbc457"
      },
      "source": [
        "my_list1 = ['Hello', 'Quant']\n",
        "my_list1.append('Hello')\n",
        "print(my_list1)\n",
        "\n",
        "my_list1.remove('Hello')\n",
        "print(my_list1)"
      ],
      "execution_count": null,
      "outputs": [
        {
          "output_type": "stream",
          "name": "stdout",
          "text": [
            "['Hello', 'Quant', 'Hello']\n",
            "['Quant', 'Hello']\n"
          ]
        }
      ]
    },
    {
      "cell_type": "markdown",
      "metadata": {
        "id": "wnXmRNIcUk7w"
      },
      "source": [
        "###Python Tuple"
      ]
    },
    {
      "cell_type": "markdown",
      "metadata": {
        "id": "d9P7V89RUyEg"
      },
      "source": [
        "Es un tipo de estructura de datos similar a una lista. La diferencia es que una tupla es inmutable, lo que significa que no puede cambiar los elementos en ella una vez que está definida."
      ]
    },
    {
      "cell_type": "code",
      "metadata": {
        "colab": {
          "base_uri": "https://localhost:8080/"
        },
        "id": "nz2XvmlKUph5",
        "outputId": "b3d725a4-2b6c-4beb-9900-3196f1a5b26a"
      },
      "source": [
        "my_tuple = ('Welcome','to','QuantConnect')\n",
        "print(my_tuple)\n",
        "print(my_tuple[1:])"
      ],
      "execution_count": null,
      "outputs": [
        {
          "output_type": "stream",
          "name": "stdout",
          "text": [
            "('Welcome', 'to', 'QuantConnect')\n",
            "('to', 'QuantConnect')\n"
          ]
        }
      ]
    },
    {
      "cell_type": "markdown",
      "metadata": {
        "id": "a6zBE3JzVKYJ"
      },
      "source": [
        "###Python Set"
      ]
    },
    {
      "cell_type": "markdown",
      "metadata": {
        "id": "O1_L1hufVQgw"
      },
      "source": [
        "Es una colección desordenada sin elementos duplicados."
      ]
    },
    {
      "cell_type": "code",
      "metadata": {
        "colab": {
          "base_uri": "https://localhost:8080/"
        },
        "id": "t95IrtAuVaKQ",
        "outputId": "9aeeb8f8-914e-4038-c492-b7ec4e8d52be"
      },
      "source": [
        "stock_list = ['AAPL','GOOG','IBM','AAPL','IBM','FB','F','GOOG']\n",
        "stock_set = set(stock_list)\n",
        "print(stock_set)"
      ],
      "execution_count": null,
      "outputs": [
        {
          "output_type": "stream",
          "name": "stdout",
          "text": [
            "{'F', 'FB', 'IBM', 'GOOG', 'AAPL'}\n"
          ]
        }
      ]
    },
    {
      "cell_type": "markdown",
      "metadata": {
        "id": "2h--eVApViQw"
      },
      "source": [
        "###Python Dictionary"
      ]
    },
    {
      "cell_type": "markdown",
      "metadata": {
        "id": "Mk2cMFENWO_4"
      },
      "source": [
        "A diferencia de las secuencias que están indexadas por números enteros, los diccionarios están indexados por claves que pueden ser cadenas o flotantes"
      ]
    },
    {
      "cell_type": "code",
      "metadata": {
        "colab": {
          "base_uri": "https://localhost:8080/"
        },
        "id": "yWP9sZZZVl0o",
        "outputId": "561238f7-6cb7-4253-a12b-8c71786ef8c5"
      },
      "source": [
        "my_dic = {'AAPL': 'Apple', 'FB': 'FaceBook', 'GOOG': 'Alphabet'}\n",
        "print(my_dic['GOOG'])"
      ],
      "execution_count": null,
      "outputs": [
        {
          "output_type": "stream",
          "name": "stdout",
          "text": [
            "Alphabet\n"
          ]
        }
      ]
    },
    {
      "cell_type": "markdown",
      "metadata": {
        "id": "HPPl-ag4WhT5"
      },
      "source": [
        "Cambiar el valor asociado con una clave específica"
      ]
    },
    {
      "cell_type": "code",
      "metadata": {
        "colab": {
          "base_uri": "https://localhost:8080/"
        },
        "id": "YLy3GY7WWu9j",
        "outputId": "1f3a3616-b880-4f1f-cccb-45ae5a49e580"
      },
      "source": [
        "my_dic['GOOG'] = 'Alphabet Company'\n",
        "print(my_dic['GOOG'])"
      ],
      "execution_count": null,
      "outputs": [
        {
          "output_type": "stream",
          "name": "stdout",
          "text": [
            "Alphabet Company\n"
          ]
        }
      ]
    },
    {
      "cell_type": "markdown",
      "metadata": {
        "id": "xLCImFKtW4vx"
      },
      "source": [
        ".keys() devuelve una lista de todas las claves utilizadas en el diccionario"
      ]
    },
    {
      "cell_type": "code",
      "metadata": {
        "colab": {
          "base_uri": "https://localhost:8080/"
        },
        "id": "8ocj2fgAXCzB",
        "outputId": "30b65994-0e3b-4173-fad2-19245a0b7f32"
      },
      "source": [
        "print(my_dic.keys())"
      ],
      "execution_count": null,
      "outputs": [
        {
          "output_type": "stream",
          "name": "stdout",
          "text": [
            "dict_keys(['AAPL', 'FB', 'GOOG'])\n"
          ]
        }
      ]
    },
    {
      "cell_type": "markdown",
      "metadata": {
        "id": "6zjhcVmxXWDo"
      },
      "source": [
        "## 1.4 Common String Operations"
      ]
    },
    {
      "cell_type": "code",
      "metadata": {
        "colab": {
          "base_uri": "https://localhost:8080/"
        },
        "id": "vIBgD71MXbyv",
        "outputId": "1aea4453-322c-46fe-998d-6999404cedd1"
      },
      "source": [
        "my_str = 'Welcome to QuantConnect'\n",
        "print(my_str[11:])\n",
        "\n",
        "print(\"Counting the number of e's in this sentence\".count('e'))\n",
        "\n",
        "print('The first time e appears in this sentence'.find('e'))\n",
        "\n",
        "print('all the a in this sentence now becomes e'.replace('a','e'))"
      ],
      "execution_count": null,
      "outputs": [
        {
          "output_type": "stream",
          "name": "stdout",
          "text": [
            "QuantConnect\n",
            "6\n",
            "2\n",
            "ell the e in this sentence now becomes e\n"
          ]
        }
      ]
    },
    {
      "cell_type": "markdown",
      "metadata": {
        "id": "Vr6OFqxtDjw8"
      },
      "source": [
        "El método más utilizado para cadenas es string.split(). Este método dividirá la cadena por el carácter indicado y devolverá una lista"
      ]
    },
    {
      "cell_type": "code",
      "metadata": {
        "colab": {
          "base_uri": "https://localhost:8080/"
        },
        "id": "exjR9bJiDmsS",
        "outputId": "4b021b54-6f02-4fb2-fe75-95e6fae887f3"
      },
      "source": [
        "Time = '2016-04-01 09:43:00'\n",
        "splited_list = Time.split(' ')\n",
        "date = splited_list[0]\n",
        "time = splited_list[1]\n",
        "print(date, time)\n",
        "\n",
        "hour = time.split(':')[0]\n",
        "print(hour)"
      ],
      "execution_count": 1,
      "outputs": [
        {
          "output_type": "stream",
          "name": "stdout",
          "text": [
            "2016-04-01 09:43:00\n",
            "09\n"
          ]
        }
      ]
    },
    {
      "cell_type": "markdown",
      "metadata": {
        "id": "Keo_H3URDy8j"
      },
      "source": [
        "Se pueden reemplazar partes de una cadena por nuestra variable (formato de cadena)"
      ]
    },
    {
      "cell_type": "code",
      "metadata": {
        "colab": {
          "base_uri": "https://localhost:8080/"
        },
        "id": "HbEsO2JAD2PL",
        "outputId": "80dacd77-748d-430b-e3e1-e118b0e9e350"
      },
      "source": [
        "my_time = 'Hora: {}, Minuto: {}'.format(9, 43)\n",
        "print(my_time)"
      ],
      "execution_count": 2,
      "outputs": [
        {
          "output_type": "stream",
          "name": "stdout",
          "text": [
            "Hora: 9, Minuto: 43\n"
          ]
        }
      ]
    },
    {
      "cell_type": "markdown",
      "metadata": {
        "id": "aZZYP-VfE9TL"
      },
      "source": [
        "# 2. Logical Operations and Loops"
      ]
    },
    {
      "cell_type": "markdown",
      "metadata": {
        "id": "FD9tQ3ZnFFBj"
      },
      "source": [
        "## 2.1 Logical Operations"
      ]
    },
    {
      "cell_type": "code",
      "metadata": {
        "colab": {
          "base_uri": "https://localhost:8080/"
        },
        "id": "xfjcUJmcFK-b",
        "outputId": "9c71ddef-557f-4441-f53b-d9d9e4d1155b"
      },
      "source": [
        "print (55 == 12)    \n",
        "print (12 == 12)    \n",
        "print (13 != 22)   \n",
        "print (5 >= 5)  \n",
        "print (5 >= 6)  "
      ],
      "execution_count": 8,
      "outputs": [
        {
          "output_type": "stream",
          "name": "stdout",
          "text": [
            "False\n",
            "True\n",
            "True\n",
            "True\n",
            "False\n"
          ]
        }
      ]
    },
    {
      "cell_type": "markdown",
      "metadata": {
        "id": "_QPYOD-3GTXr"
      },
      "source": [
        "Al combinar declaraciones simples P y Q para formar declaraciones complejas usando operadores lógicos"
      ]
    },
    {
      "cell_type": "code",
      "metadata": {
        "colab": {
          "base_uri": "https://localhost:8080/"
        },
        "id": "onHFNb6aF_NO",
        "outputId": "47da3b47-15a2-42f1-95be-2f9c2655d5d9"
      },
      "source": [
        "print (5 > 2 and 3 > 2)\n",
        "print (2 > 1 and 3 < 2)\n",
        "print (2 > 1 or  3 < 2)\n",
        "print (2 < 1 and 3 < 2)\n",
        "\n",
        "print (3 > 2 or 1 < 3) and (1!=3 and 4>3) and not ( 3 < 2 or 1 < 3 and (1!=3 and 4>3))\n",
        "print ((3 > 2 or 1 < 3) and (1!=3 and 4>3) and not ( 3 < 2 or 1 < 3 and (1!=3 and 4>3)))"
      ],
      "execution_count": 20,
      "outputs": [
        {
          "output_type": "stream",
          "name": "stdout",
          "text": [
            "True\n",
            "False\n",
            "True\n",
            "False\n",
            "True\n",
            "False\n"
          ]
        }
      ]
    },
    {
      "cell_type": "markdown",
      "metadata": {
        "id": "5qvQjoRVHeY7"
      },
      "source": [
        "## 2.2 If Statement"
      ]
    },
    {
      "cell_type": "code",
      "metadata": {
        "colab": {
          "base_uri": "https://localhost:8080/"
        },
        "id": "9rt6__lfHmBS",
        "outputId": "10918897-f46c-493e-c19e-42d16f7d5817"
      },
      "source": [
        "p = 1 > 10\n",
        "q = 2 > 15\n",
        "if p and q:\n",
        "    print ('p y q son verdaderas')\n",
        "elif p and not q:\n",
        "    print ('q es falsa')\n",
        "elif q and not p:\n",
        "    print ('p es falsa')\n",
        "else:\n",
        "    print ('Ni p ni q son verdaderas')"
      ],
      "execution_count": 25,
      "outputs": [
        {
          "output_type": "stream",
          "name": "stdout",
          "text": [
            "Ni p ni q son verdaderas\n"
          ]
        }
      ]
    },
    {
      "cell_type": "markdown",
      "metadata": {
        "id": "oViQP38pIs-9"
      },
      "source": [
        "## 2.3 Loop Structure"
      ]
    },
    {
      "cell_type": "markdown",
      "metadata": {
        "id": "fV2ne53aIxIj"
      },
      "source": [
        "### While Loop"
      ]
    },
    {
      "cell_type": "code",
      "metadata": {
        "colab": {
          "base_uri": "https://localhost:8080/"
        },
        "id": "bKa3Sk43I0x7",
        "outputId": "49523a3b-84cd-4424-98fb-714a5af322be"
      },
      "source": [
        "i = 0\n",
        "while i < 5:\n",
        "    print (i)\n",
        "    i += 1"
      ],
      "execution_count": 27,
      "outputs": [
        {
          "output_type": "stream",
          "name": "stdout",
          "text": [
            "0\n",
            "1\n",
            "2\n",
            "3\n",
            "4\n"
          ]
        }
      ]
    },
    {
      "cell_type": "markdown",
      "metadata": {
        "id": "TGs4i4AeI9NE"
      },
      "source": [
        "### For Loop"
      ]
    },
    {
      "cell_type": "code",
      "metadata": {
        "colab": {
          "base_uri": "https://localhost:8080/"
        },
        "id": "b9KlPsq9JAZL",
        "outputId": "a423d895-462f-48c1-aaa7-a44113956005"
      },
      "source": [
        "for x in [1,2,3,4,5]: \n",
        "     print (x)"
      ],
      "execution_count": 28,
      "outputs": [
        {
          "output_type": "stream",
          "name": "stdout",
          "text": [
            "1\n",
            "2\n",
            "3\n",
            "4\n",
            "5\n"
          ]
        }
      ]
    },
    {
      "cell_type": "code",
      "metadata": {
        "colab": {
          "base_uri": "https://localhost:8080/"
        },
        "id": "wgx8mI79JLPr",
        "outputId": "69804bbd-d2a7-447c-880c-f27f577c73d7"
      },
      "source": [
        "stocks = ['AAPL','GOOG','IBM','FB','F','V', 'G', 'GE']\n",
        "selected = ['AAPL','IBM']\n",
        "new_list = []\n",
        "for stock in stocks:\n",
        "    if stock not in selected:\n",
        "        new_list.append(stock)\n",
        "print (new_list)"
      ],
      "execution_count": 30,
      "outputs": [
        {
          "output_type": "stream",
          "name": "stdout",
          "text": [
            "['GOOG', 'FB', 'F', 'V', 'G', 'GE']\n"
          ]
        }
      ]
    },
    {
      "cell_type": "markdown",
      "metadata": {
        "id": "rHlOGyA2JTzi"
      },
      "source": [
        "##### Break and continue\n",
        "Si se activa \"break\" mientras se ejecuta un bucle, el bucle terminará inmediatamente"
      ]
    },
    {
      "cell_type": "code",
      "metadata": {
        "colab": {
          "base_uri": "https://localhost:8080/"
        },
        "id": "kZ8DxOdLJVWT",
        "outputId": "3d09cb8b-5187-4063-a2e9-2410666e47e3"
      },
      "source": [
        "stocks = ['AAPL','GOOG','IBM','FB','F','V', 'G', 'GE']\n",
        "for stock in stocks:\n",
        "    print (stock)\n",
        "    if stock == 'FB': break"
      ],
      "execution_count": 32,
      "outputs": [
        {
          "output_type": "stream",
          "name": "stdout",
          "text": [
            "AAPL\n",
            "GOOG\n",
            "IBM\n",
            "FB\n"
          ]
        }
      ]
    },
    {
      "cell_type": "markdown",
      "metadata": {
        "id": "0vici_WGJxz7"
      },
      "source": [
        "El comando \"continue\" le dice al ciclo que termine esta iteración y salte a la siguiente iteración"
      ]
    },
    {
      "cell_type": "code",
      "metadata": {
        "colab": {
          "base_uri": "https://localhost:8080/"
        },
        "id": "qcG2GBWGJ2Fj",
        "outputId": "1cde3472-f7aa-40ec-f864-be833e05864c"
      },
      "source": [
        "for stock in stocks:\n",
        "    if stock == 'FB': continue\n",
        "    print (stock)"
      ],
      "execution_count": 33,
      "outputs": [
        {
          "output_type": "stream",
          "name": "stdout",
          "text": [
            "AAPL\n",
            "GOOG\n",
            "IBM\n",
            "F\n",
            "V\n",
            "G\n",
            "GE\n"
          ]
        }
      ]
    },
    {
      "cell_type": "markdown",
      "metadata": {
        "id": "tIRPMqwXJ8Mj"
      },
      "source": [
        "## List Comprehension"
      ]
    },
    {
      "cell_type": "code",
      "metadata": {
        "colab": {
          "base_uri": "https://localhost:8080/"
        },
        "id": "yl6CTmaUKBLT",
        "outputId": "a257e9ba-692b-46f9-e86b-dfc447124150"
      },
      "source": [
        "squares = []\n",
        "for i in [1,2,3,4,5]:\n",
        "    squares.append(i**2)\n",
        "print (squares)\n",
        "\n",
        "#usando comprensión de listas\n",
        "foo = [1,2,3,4,5]\n",
        "squares = [x**2 for x in foo]\n",
        "print (squares)\n",
        "\n",
        "stocks = ['AAPL','GOOG','IBM','FB','F','V', 'G', 'GE']\n",
        "selected = ['AAPL','IBM']\n",
        "new_list = [x for x in stocks if x not in selected]\n",
        "print (new_list)\n"
      ],
      "execution_count": 43,
      "outputs": [
        {
          "output_type": "stream",
          "name": "stdout",
          "text": [
            "[1, 4, 9, 16, 25]\n",
            "[1, 4, 9, 16, 25]\n",
            "['GOOG', 'FB', 'F', 'V', 'G', 'GE']\n"
          ]
        }
      ]
    },
    {
      "cell_type": "markdown",
      "metadata": {
        "id": "sKi25lFZLK3G"
      },
      "source": [
        "Una lista de comprensión consta de corchetes que contienen una expresión seguida de una cláusula \"for\" y posiblemente cláusulas \"for\" o \"if\". "
      ]
    },
    {
      "cell_type": "code",
      "metadata": {
        "colab": {
          "base_uri": "https://localhost:8080/"
        },
        "id": "dgSbVoBcLNVr",
        "outputId": "2d510285-468c-475c-d4c9-08f70b345ad9"
      },
      "source": [
        "print ([(x, y) for x in [1,2,3] for y in [3,1,4] if x != y])\n",
        "print ([str(x) + ' vs ' + str(y) for x in ['AAPL','GOOG','IBM','FB']\n",
        "                                for y in ['F','V','G','GE'] if x != y])"
      ],
      "execution_count": 44,
      "outputs": [
        {
          "output_type": "stream",
          "name": "stdout",
          "text": [
            "[(1, 3), (1, 4), (2, 3), (2, 1), (2, 4), (3, 1), (3, 4)]\n",
            "['AAPL vs F', 'AAPL vs V', 'AAPL vs G', 'AAPL vs GE', 'GOOG vs F', 'GOOG vs V', 'GOOG vs G', 'GOOG vs GE', 'IBM vs F', 'IBM vs V', 'IBM vs G', 'IBM vs GE', 'FB vs F', 'FB vs V', 'FB vs G', 'FB vs GE']\n"
          ]
        }
      ]
    },
    {
      "cell_type": "markdown",
      "metadata": {
        "id": "tHveg_IULS_E"
      },
      "source": [
        "# 3. Functions and Objective-Oriented Programming"
      ]
    },
    {
      "cell_type": "markdown",
      "metadata": {
        "id": "cAtWmkrRLp8T"
      },
      "source": [
        "## 3.1 Functions\n",
        "Podemos definir fácilmente nuestra propia función usando la palabra clave \"def\""
      ]
    },
    {
      "cell_type": "code",
      "metadata": {
        "colab": {
          "base_uri": "https://localhost:8080/"
        },
        "id": "Wt0l4NYML-KL",
        "outputId": "0fff786d-43d6-4bbd-d312-5e379f93683f"
      },
      "source": [
        "def product(x,y):\n",
        "    return x*y\n",
        "print (product(3,6))\n",
        "\n",
        "\n",
        "def say_hi():\n",
        "    print (\"Welcome to QuantConnect\")\n",
        "say_hi()"
      ],
      "execution_count": 50,
      "outputs": [
        {
          "output_type": "stream",
          "name": "stdout",
          "text": [
            "18\n",
            "Welcome to QuantConnect\n"
          ]
        }
      ]
    },
    {
      "cell_type": "markdown",
      "metadata": {
        "id": "gfK532NsMTuM"
      },
      "source": [
        "## 3.2 Built-in Function\n",
        "range() es una función que crea una lista que contiene una secuencia aritmética."
      ]
    },
    {
      "cell_type": "code",
      "metadata": {
        "colab": {
          "base_uri": "https://localhost:8080/"
        },
        "id": "04eOkA08Mfwz",
        "outputId": "e8988224-3a00-4f19-eb71-39a58f76232d"
      },
      "source": [
        "x = range(10)\n",
        "for n in x:\n",
        "  print(n)\n",
        "\n",
        "print(list(range(10)))"
      ],
      "execution_count": 66,
      "outputs": [
        {
          "output_type": "stream",
          "name": "stdout",
          "text": [
            "0\n",
            "1\n",
            "2\n",
            "3\n",
            "4\n",
            "5\n",
            "6\n",
            "7\n",
            "8\n",
            "9\n",
            "[0, 1, 2, 3, 4, 5, 6, 7, 8, 9]\n"
          ]
        }
      ]
    },
    {
      "cell_type": "markdown",
      "metadata": {
        "id": "vBOsi8zUOSMM"
      },
      "source": [
        "len() es otra función que se usa junto con range() para crear un bucle for (devuelve la longitud de un objeto)"
      ]
    },
    {
      "cell_type": "code",
      "metadata": {
        "colab": {
          "base_uri": "https://localhost:8080/"
        },
        "id": "MdyxafBTOXxr",
        "outputId": "07ad123d-4259-432d-c5b5-6e3a24e6d774"
      },
      "source": [
        "tickers = ['AAPL', 'GOOGL', 'IBM', 'FB', 'F', 'V', 'G', 'GE']\n",
        "print (\"The number of tickers is {}\".format(len(tickers)))\n",
        "for k in range(len(tickers)):\n",
        "    print (k + 1, tickers[k])"
      ],
      "execution_count": 67,
      "outputs": [
        {
          "output_type": "stream",
          "name": "stdout",
          "text": [
            "The number of tickers is 8\n",
            "1 AAPL\n",
            "2 GOOGL\n",
            "3 IBM\n",
            "4 FB\n",
            "5 F\n",
            "6 V\n",
            "7 G\n",
            "8 GE\n"
          ]
        }
      ]
    },
    {
      "cell_type": "markdown",
      "metadata": {
        "id": "IiGdtOG8OqR9"
      },
      "source": [
        "map() es una función que aplica una función específica a cada elemento de una secuencia o colección y devuelve una lista de los resultados."
      ]
    },
    {
      "cell_type": "code",
      "metadata": {
        "colab": {
          "base_uri": "https://localhost:8080/"
        },
        "id": "tPD81uxTOrdr",
        "outputId": "610c2bd9-d79b-49a7-d578-f95bf544b156"
      },
      "source": [
        "tickers = ['AAPL','GOOG','IBM','FB','F','V', 'G', 'GE']\n",
        "print(list(map(len,tickers)))"
      ],
      "execution_count": 68,
      "outputs": [
        {
          "output_type": "stream",
          "name": "stdout",
          "text": [
            "[4, 4, 3, 2, 1, 1, 1, 2]\n"
          ]
        }
      ]
    },
    {
      "cell_type": "markdown",
      "metadata": {
        "id": "XmEQFut2O2LU"
      },
      "source": [
        "El operador lambda es una forma de crear pequeñas funciones anónimas. Estas funciones solo son necesarias donde se han creado."
      ]
    },
    {
      "cell_type": "code",
      "metadata": {
        "colab": {
          "base_uri": "https://localhost:8080/"
        },
        "id": "z_cXQzLuO3nN",
        "outputId": "c2da69a0-0189-4a21-b8a1-f634ae880687"
      },
      "source": [
        "\n",
        "print (list(map(lambda x: x**2, range(10))))\n",
        "\n",
        "print (list(map(lambda x, y: x+y, [1,2,3,4,5], [5,4,3,2,1])))\n",
        "print (map(lambda x, y: x+y, [1,2,3,4,5], [5,4,3,2,1]))"
      ],
      "execution_count": 84,
      "outputs": [
        {
          "output_type": "stream",
          "name": "stdout",
          "text": [
            "[0, 1, 4, 9, 16, 25, 36, 49, 64, 81]\n",
            "[6, 6, 6, 6, 6]\n",
            "<map object at 0x7f6a86260d50>\n"
          ]
        }
      ]
    },
    {
      "cell_type": "markdown",
      "metadata": {
        "id": "DQPpFC-6QSws"
      },
      "source": [
        "sorted() toma una lista o conjunto y devuelve una nueva lista ordenada"
      ]
    },
    {
      "cell_type": "code",
      "metadata": {
        "colab": {
          "base_uri": "https://localhost:8080/"
        },
        "id": "4rNwr7XCQSi9",
        "outputId": "4df4bc57-2ca4-4295-ed03-503c9c118821"
      },
      "source": [
        "print (list(sorted([5,2,3,4,1])))\n",
        "sorted([5,2,3,4,1])"
      ],
      "execution_count": 87,
      "outputs": [
        {
          "output_type": "stream",
          "name": "stdout",
          "text": [
            "[1, 2, 3, 4, 5]\n"
          ]
        },
        {
          "output_type": "execute_result",
          "data": {
            "text/plain": [
              "[1, 2, 3, 4, 5]"
            ]
          },
          "metadata": {},
          "execution_count": 87
        }
      ]
    },
    {
      "cell_type": "markdown",
      "metadata": {
        "id": "9TbgRxZ9QrtE"
      },
      "source": [
        "Podemos agregar un parámetro \"clave\" para especificar una función que se llamará en cada elemento de la lista antes de hacer comparaciones"
      ]
    },
    {
      "cell_type": "code",
      "metadata": {
        "colab": {
          "base_uri": "https://localhost:8080/"
        },
        "id": "-9BoaWYzQsns",
        "outputId": "f7eb7e08-b5da-4fcd-b952-a24c875efe80"
      },
      "source": [
        "price_list = [('AAPL', 144.09), ('GOOGL', 911.71), ('MSFT', 69), ('FB', 150), ('WMT', 75.32)]\n",
        "sorted(price_list, key = lambda x: x[1])"
      ],
      "execution_count": 85,
      "outputs": [
        {
          "output_type": "execute_result",
          "data": {
            "text/plain": [
              "[('MSFT', 69),\n",
              " ('WMT', 75.32),\n",
              " ('AAPL', 144.09),\n",
              " ('FB', 150),\n",
              " ('GOOGL', 911.71)]"
            ]
          },
          "metadata": {},
          "execution_count": 85
        }
      ]
    },
    {
      "cell_type": "markdown",
      "metadata": {
        "id": "ywC3EX-lQ_iL"
      },
      "source": [
        "Podemos cambiarlo a descendente agregando un parámetro opcional \"reverse\""
      ]
    },
    {
      "cell_type": "code",
      "metadata": {
        "colab": {
          "base_uri": "https://localhost:8080/"
        },
        "id": "qQoISANERDSs",
        "outputId": "3547ac47-ceef-4719-9735-f5baf4cc9da5"
      },
      "source": [
        "price_list = [('AAPL', 144.09), ('GOOGL', 911.71), ('MSFT', 69), ('FB', 150), ('WMT', 75.32)]\n",
        "print (sorted(price_list, key = lambda x: x[1], reverse = True))\n"
      ],
      "execution_count": 97,
      "outputs": [
        {
          "output_type": "stream",
          "name": "stdout",
          "text": [
            "[('GOOGL', 911.71), ('FB', 150), ('AAPL', 144.09), ('WMT', 75.32), ('MSFT', 69)]\n"
          ]
        }
      ]
    },
    {
      "cell_type": "code",
      "metadata": {
        "colab": {
          "base_uri": "https://localhost:8080/"
        },
        "id": "LGn6V9s_RUX0",
        "outputId": "1200587b-c57a-4cf2-ca3d-de904724356a"
      },
      "source": [
        "price_list.sort(key = lambda x: x[1])\n",
        "print (price_list)"
      ],
      "execution_count": 92,
      "outputs": [
        {
          "output_type": "stream",
          "name": "stdout",
          "text": [
            "[('MSFT', 69), ('WMT', 75.32), ('AAPL', 144.09), ('FB', 150), ('GOOGL', 911.71)]\n"
          ]
        }
      ]
    },
    {
      "cell_type": "markdown",
      "metadata": {
        "id": "ga9xJoMMRsy0"
      },
      "source": [
        "## 3.3 Object-Oriented Programming"
      ]
    },
    {
      "cell_type": "markdown",
      "metadata": {
        "id": "POke4NjRR1AE"
      },
      "source": [
        "### Class\n",
        "Una clase es un tipo de datos, como una cadena, flotante o lista. Cuando creamos un objeto de ese tipo de datos, lo llamamos instancia de una clase.\n",
        "\n",
        "En Python, todo es un objeto, todo es una instancia de alguna clase. Los datos almacenados dentro de un objeto se denominan atributos y las funciones asociadas con el objeto se denominan métodos."
      ]
    },
    {
      "cell_type": "code",
      "metadata": {
        "id": "u7HcpoxHSEas"
      },
      "source": [
        "class Stock:\n",
        "    def __init__(self, ticker, open, close, volume):\n",
        "        self.ticker = ticker\n",
        "        self.open = open\n",
        "        self.close = close\n",
        "        self.volume = volume\n",
        "        self.rate_return = float(close)/open - 1\n",
        "\n",
        "    def update(self, open, close):\n",
        "        self.open = open\n",
        "        self.close = close\n",
        "        self.rate_return = float(self.close)/self.open - 1\n",
        "\n",
        "    def print_return(self):\n",
        "        print (self.rate_return)"
      ],
      "execution_count": 99,
      "outputs": []
    },
    {
      "cell_type": "code",
      "metadata": {
        "id": "PsAPOmZ4SOQU"
      },
      "source": [
        "apple  = Stock('AAPL', 143.69, 144.09, 20109375)\n",
        "google = Stock('GOOGL', 898.7, 911.7, 1561616)"
      ],
      "execution_count": 100,
      "outputs": []
    },
    {
      "cell_type": "code",
      "metadata": {
        "colab": {
          "base_uri": "https://localhost:8080/"
        },
        "id": "M95DYi7SSZUs",
        "outputId": "fac46402-b590-4995-8122-7657d6b97ace"
      },
      "source": [
        "print (apple.ticker)\n",
        "\n",
        "google.print_return()\n",
        "\n",
        "google.update(912.8,913.4)\n",
        "google.print_return()"
      ],
      "execution_count": 102,
      "outputs": [
        {
          "output_type": "stream",
          "name": "stdout",
          "text": [
            "AAPL\n",
            "0.0006573181419806673\n",
            "0.0006573181419806673\n"
          ]
        }
      ]
    },
    {
      "cell_type": "markdown",
      "metadata": {
        "id": "Xvoz92iiS438"
      },
      "source": [
        "Al llamar a la función update (), actualizamos los precios de apertura y cierre de una acción. Tenga en cuenta que cuando usamos los atributos o llamamos a los métodos dentro de una clase, debemos especificarlos como self.attribute o self.method (), de lo contrario, Python los considerará como variables globales y, por lo tanto, generará un error.\n",
        "\n",
        "Podemos agregar un atributo a un objeto en cualquier lugar:"
      ]
    },
    {
      "cell_type": "code",
      "metadata": {
        "colab": {
          "base_uri": "https://localhost:8080/"
        },
        "id": "qMpmNimuS70l",
        "outputId": "0be06266-ab2c-4a63-9717-d4d78be88004"
      },
      "source": [
        "apple.ceo = 'Tim Cook'\n",
        "print (apple.ceo)"
      ],
      "execution_count": 103,
      "outputs": [
        {
          "output_type": "stream",
          "name": "stdout",
          "text": [
            "Tim Cook\n"
          ]
        }
      ]
    },
    {
      "cell_type": "markdown",
      "metadata": {
        "id": "1-FUJe_YTIj0"
      },
      "source": [
        "Podemos verificar qué nombres (atributos y métodos) están definidos en un objeto usando la función dir()"
      ]
    },
    {
      "cell_type": "code",
      "metadata": {
        "id": "YIGHA7RQTMiz"
      },
      "source": [
        "dir(apple)"
      ],
      "execution_count": 108,
      "outputs": []
    },
    {
      "cell_type": "markdown",
      "metadata": {
        "id": "2_OTONNETrfV"
      },
      "source": [
        "### Inheritance\n",
        "La herencia es una forma de organizar las clases en una jerarquía desde la más general hasta la más específica (Padre-hijo)."
      ]
    },
    {
      "cell_type": "code",
      "metadata": {
        "id": "xS9LObEaT9Ak"
      },
      "source": [
        "class Child(Stock):\n",
        "    def __init__(self, name):\n",
        "        self.name = name"
      ],
      "execution_count": 109,
      "outputs": []
    },
    {
      "cell_type": "code",
      "metadata": {
        "colab": {
          "base_uri": "https://localhost:8080/"
        },
        "id": "m5FggNv-UAQs",
        "outputId": "ed58488d-16f9-4428-feac-8f56e4ee6dca"
      },
      "source": [
        "aa = Child('AA')\n",
        "print (aa.name)\n",
        "\n",
        "aa.update(100, 102)\n",
        "print (aa.open)\n",
        "\n",
        "print (aa.close)\n",
        "\n",
        "print (aa.print_return())"
      ],
      "execution_count": 111,
      "outputs": [
        {
          "output_type": "stream",
          "name": "stdout",
          "text": [
            "AA\n",
            "100\n",
            "102\n",
            "0.020000000000000018\n",
            "None\n"
          ]
        }
      ]
    },
    {
      "cell_type": "markdown",
      "metadata": {
        "id": "RHR1SHwMUW28"
      },
      "source": [
        "# 4. NumPy and Basic Pandas"
      ]
    },
    {
      "cell_type": "markdown",
      "metadata": {
        "id": "oix4PaSpUhsl"
      },
      "source": [
        "## 4.1 NumPy\n",
        "Es la biblioteca central para la computación científica en Python. Proporciona un objeto de matriz multidimensional de alto rendimiento y herramientas para trabajar con estas matrices. También tiene una fuerte integración con Pandas, que es otra herramienta poderosa para manipular datos financieros.\n",
        "Los paquetes de Python como NumPy y Pandas contienen clases y métodos que podemos usar al importar el paquete:"
      ]
    },
    {
      "cell_type": "code",
      "metadata": {
        "id": "1-mcJC31U7ZU"
      },
      "source": [
        "import numpy as np"
      ],
      "execution_count": 112,
      "outputs": []
    },
    {
      "cell_type": "markdown",
      "metadata": {
        "id": "lkxFIuJWVCe0"
      },
      "source": [
        "### Basic NumPy Arrays\n",
        "Es una cuadrícula de valores, todos del mismo tipo, y está indexada por una tupla de enteros no negativos."
      ]
    },
    {
      "cell_type": "code",
      "metadata": {
        "colab": {
          "base_uri": "https://localhost:8080/"
        },
        "id": "hLXZNARAVF4M",
        "outputId": "5fa254f3-fd9f-44eb-f2b6-aa2335c67422"
      },
      "source": [
        "price_list = [143.73, 145.83, 143.68, 144.02, 143.5, 142.62]\n",
        "price_array = np.array(price_list)\n",
        "print (price_array, type(price_array))"
      ],
      "execution_count": 115,
      "outputs": [
        {
          "output_type": "stream",
          "name": "stdout",
          "text": [
            "[143.73 145.83 143.68 144.02 143.5  142.62] <class 'numpy.ndarray'>\n"
          ]
        }
      ]
    },
    {
      "cell_type": "markdown",
      "metadata": {
        "id": "OisGS8FkYOll"
      },
      "source": [
        "Si pasamos np.array() una lista de listas, creará una matriz bidimensional."
      ]
    },
    {
      "cell_type": "code",
      "metadata": {
        "colab": {
          "base_uri": "https://localhost:8080/"
        },
        "id": "Mw5mkVWVYQbd",
        "outputId": "7dea201b-901e-4243-9c13-c134de6ef8e1"
      },
      "source": [
        "Ar = np.array([[1,3], [2,4]])\n",
        "print (Ar, type(Ar))"
      ],
      "execution_count": 117,
      "outputs": [
        {
          "output_type": "stream",
          "name": "stdout",
          "text": [
            "[[1 3]\n",
            " [2 4]] <class 'numpy.ndarray'>\n"
          ]
        }
      ]
    },
    {
      "cell_type": "markdown",
      "metadata": {
        "id": "C0h_6oIvYnDs"
      },
      "source": [
        "Obtenemos la dimensión de un ndarray usando el atributo .shape"
      ]
    },
    {
      "cell_type": "code",
      "metadata": {
        "colab": {
          "base_uri": "https://localhost:8080/"
        },
        "id": "1A3QjtXrYrkc",
        "outputId": "09c789a4-2ec2-4007-afb5-9388a8cb8c00"
      },
      "source": [
        "print (Ar.shape)"
      ],
      "execution_count": 118,
      "outputs": [
        {
          "output_type": "stream",
          "name": "stdout",
          "text": [
            "(2, 2)\n"
          ]
        }
      ]
    },
    {
      "cell_type": "markdown",
      "metadata": {
        "id": "YJn4O3jUY6K9"
      },
      "source": [
        "Si creamos una matriz, se puede acceder a cada fila por índice"
      ]
    },
    {
      "cell_type": "code",
      "metadata": {
        "colab": {
          "base_uri": "https://localhost:8080/"
        },
        "id": "jL2Qr5ttY8Vk",
        "outputId": "01810262-96e2-40e4-c800-2104a53cf602"
      },
      "source": [
        "print (Ar[0])\n",
        "print (Ar[1])\n"
      ],
      "execution_count": 122,
      "outputs": [
        {
          "output_type": "stream",
          "name": "stdout",
          "text": [
            "[1 3]\n",
            "[2 4]\n",
            "First column: [1 2]\n",
            "Second column: [3 4]\n"
          ]
        }
      ]
    },
    {
      "cell_type": "markdown",
      "metadata": {
        "id": "5KKmiZ60ZTlj"
      },
      "source": [
        "Accediendo por columna"
      ]
    },
    {
      "cell_type": "code",
      "metadata": {
        "colab": {
          "base_uri": "https://localhost:8080/"
        },
        "id": "G-4UqlHVZZ_0",
        "outputId": "5e717f7e-f786-49b9-a73c-476de49ce118"
      },
      "source": [
        "print ('First column:', Ar[:,0])\n",
        "print ('Second column:', Ar[:,1])"
      ],
      "execution_count": 123,
      "outputs": [
        {
          "output_type": "stream",
          "name": "stdout",
          "text": [
            "First column: [1 2]\n",
            "Second column: [3 4]\n"
          ]
        }
      ]
    },
    {
      "cell_type": "markdown",
      "metadata": {
        "id": "sOxeDtweZg0z"
      },
      "source": [
        "#### Array Functions"
      ]
    },
    {
      "cell_type": "markdown",
      "metadata": {
        "id": "5h54HPUpZpes"
      },
      "source": [
        "El logaritmo natural a cada elemento de una matriz:"
      ]
    },
    {
      "cell_type": "code",
      "metadata": {
        "colab": {
          "base_uri": "https://localhost:8080/"
        },
        "id": "dovaYuB8ZrUE",
        "outputId": "08d423fd-7a5e-4735-8d54-a233c0501946"
      },
      "source": [
        "np.log(price_array)"
      ],
      "execution_count": 124,
      "outputs": [
        {
          "output_type": "execute_result",
          "data": {
            "text/plain": [
              "array([4.96793654, 4.98244156, 4.9675886 , 4.96995218, 4.96633504,\n",
              "       4.96018375])"
            ]
          },
          "metadata": {},
          "execution_count": 124
        }
      ]
    },
    {
      "cell_type": "markdown",
      "metadata": {
        "id": "ZZ30_kGiZ8Pe"
      },
      "source": [
        "Otras funciones devuelven un solo valor\n",
        "\n"
      ]
    },
    {
      "cell_type": "code",
      "metadata": {
        "colab": {
          "base_uri": "https://localhost:8080/"
        },
        "id": "aHssDp5YaBH1",
        "outputId": "1ef82d20-f874-49e2-b68f-9bc5d37f8db2"
      },
      "source": [
        "np.mean(price_array)\n",
        "\n",
        "print (np.std(price_array))\n",
        "\n",
        "print (np.sum(price_array))\n",
        "\n",
        "print (np.max(price_array))"
      ],
      "execution_count": 127,
      "outputs": [
        {
          "output_type": "stream",
          "name": "stdout",
          "text": [
            "0.9673790478515796\n",
            "863.38\n",
            "145.83\n"
          ]
        }
      ]
    },
    {
      "cell_type": "markdown",
      "metadata": {
        "id": "gbKeonXpaNjk"
      },
      "source": [
        "## Pandas\n",
        "Es una de las herramientas más poderosas para manejar datos financieros."
      ]
    },
    {
      "cell_type": "code",
      "metadata": {
        "id": "QUOv9gq3aUrs"
      },
      "source": [
        "import pandas as pd"
      ],
      "execution_count": 128,
      "outputs": []
    },
    {
      "cell_type": "markdown",
      "metadata": {
        "id": "eV0fdzRsaW5E"
      },
      "source": [
        "### Series \n",
        "es una matriz etiquetada unidimensional capaz de contener cualquier tipo de datos (enteros, cadenas, flotante, objeto de Python, etc.)"
      ]
    },
    {
      "cell_type": "code",
      "metadata": {
        "colab": {
          "base_uri": "https://localhost:8080/"
        },
        "id": "E4VZFBKtbIfu",
        "outputId": "6f4c5c59-0dcf-48d1-9624-a42238ceaab3"
      },
      "source": [
        "price = [143.73, 145.83, 143.68, 144.02, 143.5, 142.62]\n",
        "s = pd.Series(price)\n",
        "print (s)"
      ],
      "execution_count": 130,
      "outputs": [
        {
          "output_type": "stream",
          "name": "stdout",
          "text": [
            "0    143.73\n",
            "1    145.83\n",
            "2    143.68\n",
            "3    144.02\n",
            "4    143.50\n",
            "5    142.62\n",
            "dtype: float64\n"
          ]
        }
      ]
    },
    {
      "cell_type": "markdown",
      "metadata": {
        "id": "LaQj5HYNbYud"
      },
      "source": [
        "Podemos personalizar los índices de una nueva Serie"
      ]
    },
    {
      "cell_type": "code",
      "metadata": {
        "colab": {
          "base_uri": "https://localhost:8080/"
        },
        "id": "n4s6I-M7baU1",
        "outputId": "237a4705-d156-436f-9657-429722210043"
      },
      "source": [
        "s = pd.Series(price, index = ['a', 'b', 'c', 'd', 'e', 'f'])\n",
        "print (s)\n",
        "\n",
        "s.index = [6,5,4,3,2,1]\n",
        "print (s)"
      ],
      "execution_count": 132,
      "outputs": [
        {
          "output_type": "stream",
          "name": "stdout",
          "text": [
            "a    143.73\n",
            "b    145.83\n",
            "c    143.68\n",
            "d    144.02\n",
            "e    143.50\n",
            "f    142.62\n",
            "dtype: float64\n",
            "6    143.73\n",
            "5    145.83\n",
            "4    143.68\n",
            "3    144.02\n",
            "2    143.50\n",
            "1    142.62\n",
            "dtype: float64\n"
          ]
        }
      ]
    },
    {
      "cell_type": "markdown",
      "metadata": {
        "id": "Zsw_YxK4btrF"
      },
      "source": [
        "La serie es como una lista, ya que se puede dividir por índice"
      ]
    },
    {
      "cell_type": "code",
      "metadata": {
        "colab": {
          "base_uri": "https://localhost:8080/"
        },
        "id": "8GqJ8cl4buW0",
        "outputId": "5831170b-8b8a-4e76-960d-532b003acc45"
      },
      "source": [
        "print (s[1:])\n",
        "print (s[:-3])"
      ],
      "execution_count": 135,
      "outputs": [
        {
          "output_type": "stream",
          "name": "stdout",
          "text": [
            "5    145.83\n",
            "4    143.68\n",
            "3    144.02\n",
            "2    143.50\n",
            "1    142.62\n",
            "dtype: float64\n",
            "6    143.73\n",
            "5    145.83\n",
            "4    143.68\n",
            "dtype: float64\n"
          ]
        }
      ]
    },
    {
      "cell_type": "code",
      "metadata": {
        "colab": {
          "base_uri": "https://localhost:8080/"
        },
        "id": "L3faO14Kb71N",
        "outputId": "2028d9f9-e83b-4ffe-e1b6-76faccc5d296"
      },
      "source": [
        "print (s[4])\n",
        "s[4] = 0\n",
        "print (s)"
      ],
      "execution_count": 136,
      "outputs": [
        {
          "output_type": "stream",
          "name": "stdout",
          "text": [
            "143.68\n",
            "6    143.73\n",
            "5    145.83\n",
            "4      0.00\n",
            "3    144.02\n",
            "2    143.50\n",
            "1    142.62\n",
            "dtype: float64\n"
          ]
        }
      ]
    },
    {
      "cell_type": "markdown",
      "metadata": {
        "id": "abPcz_WccKWF"
      },
      "source": [
        "La serie también puede tener un atributo de nombre, que se utilizará cuando creemos un Pandas DataFrame utilizando varias series."
      ]
    },
    {
      "cell_type": "code",
      "metadata": {
        "colab": {
          "base_uri": "https://localhost:8080/"
        },
        "id": "gCM7ztoFcNXk",
        "outputId": "3054de90-856f-4db4-a2ac-441420c31fbc"
      },
      "source": [
        "s = pd.Series(price, name = 'Apple Prices')\n",
        "print (s)\n",
        "print (s.name)"
      ],
      "execution_count": 137,
      "outputs": [
        {
          "output_type": "stream",
          "name": "stdout",
          "text": [
            "0    143.73\n",
            "1    145.83\n",
            "2    143.68\n",
            "3    144.02\n",
            "4    143.50\n",
            "5    142.62\n",
            "Name: Apple Prices, dtype: float64\n",
            "Apple Prices\n"
          ]
        }
      ]
    },
    {
      "cell_type": "markdown",
      "metadata": {
        "id": "BOfcRKx6cc_M"
      },
      "source": [
        "\n",
        "Podemos obtener los resúmenes estadísticos de una Serie"
      ]
    },
    {
      "cell_type": "code",
      "metadata": {
        "colab": {
          "base_uri": "https://localhost:8080/"
        },
        "id": "Ye6Z1B3hceAs",
        "outputId": "96eb2bcf-27e7-4b89-8664-1ed8ae546080"
      },
      "source": [
        "print (s.describe())"
      ],
      "execution_count": 140,
      "outputs": [
        {
          "output_type": "stream",
          "name": "stdout",
          "text": [
            "count      6.000000\n",
            "mean     143.896667\n",
            "std        1.059711\n",
            "min      142.620000\n",
            "25%      143.545000\n",
            "50%      143.705000\n",
            "75%      143.947500\n",
            "max      145.830000\n",
            "Name: Apple Prices, dtype: float64\n"
          ]
        }
      ]
    },
    {
      "cell_type": "markdown",
      "metadata": {
        "id": "xjiBYJsXcoC8"
      },
      "source": [
        "### Time Index\n",
        "Pandas tiene una función incorporada específicamente para crear índices de fecha: pd.date_range (). Lo usamos para crear un nuevo índice para nuestra Serie"
      ]
    },
    {
      "cell_type": "code",
      "metadata": {
        "colab": {
          "base_uri": "https://localhost:8080/"
        },
        "id": "3d3pSfp8cycs",
        "outputId": "654483b3-d88b-40de-ed9d-076e3a4376ce"
      },
      "source": [
        "time_index = pd.date_range('2017-01-01', periods = len(s), freq = 'D')\n",
        "print (time_index)\n",
        "s.index = time_index\n",
        "print (s)"
      ],
      "execution_count": 142,
      "outputs": [
        {
          "output_type": "stream",
          "name": "stdout",
          "text": [
            "DatetimeIndex(['2017-01-01', '2017-01-02', '2017-01-03', '2017-01-04',\n",
            "               '2017-01-05', '2017-01-06'],\n",
            "              dtype='datetime64[ns]', freq='D')\n",
            "2017-01-01    143.73\n",
            "2017-01-02    145.83\n",
            "2017-01-03    143.68\n",
            "2017-01-04    144.02\n",
            "2017-01-05    143.50\n",
            "2017-01-06    142.62\n",
            "Freq: D, Name: Apple Prices, dtype: float64\n"
          ]
        }
      ]
    },
    {
      "cell_type": "markdown",
      "metadata": {
        "id": "eFPwtND3dJvl"
      },
      "source": [
        "Por lo general, se accede a las series mediante los métodos iloc[] y loc[]. iloc [] se usa para acceder a elementos por índice entero, y loc[] se usa para acceder al índice de la serie.\n",
        "\n",
        "iloc[] es necesario cuando el índice de una serie son números enteros"
      ]
    },
    {
      "cell_type": "code",
      "metadata": {
        "colab": {
          "base_uri": "https://localhost:8080/"
        },
        "id": "tQls0XHYdLL1",
        "outputId": "2e321ea0-d922-4a40-ce0d-c34e49e60a0e"
      },
      "source": [
        "s.index = [6,5,4,3,2,1]\n",
        "print (s)\n",
        "print (s[1])"
      ],
      "execution_count": 143,
      "outputs": [
        {
          "output_type": "stream",
          "name": "stdout",
          "text": [
            "6    143.73\n",
            "5    145.83\n",
            "4    143.68\n",
            "3    144.02\n",
            "2    143.50\n",
            "1    142.62\n",
            "Name: Apple Prices, dtype: float64\n",
            "142.62\n"
          ]
        }
      ]
    },
    {
      "cell_type": "code",
      "metadata": {
        "colab": {
          "base_uri": "https://localhost:8080/"
        },
        "id": "h6w4n1tRdm2U",
        "outputId": "9cb1e604-3068-4314-a2ad-17f0f158cf6b"
      },
      "source": [
        "print (s.iloc[0])"
      ],
      "execution_count": 146,
      "outputs": [
        {
          "output_type": "stream",
          "name": "stdout",
          "text": [
            "143.73\n"
          ]
        }
      ]
    },
    {
      "cell_type": "markdown",
      "metadata": {
        "id": "ROmIb3Bvd0OP"
      },
      "source": [
        "Al trabajar con datos de series de tiempo, a menudo usamos el tiempo como índice. Pandas nos proporciona varios métodos para acceder a los datos por índice de tiempo"
      ]
    },
    {
      "cell_type": "code",
      "metadata": {
        "colab": {
          "base_uri": "https://localhost:8080/"
        },
        "id": "ve1-iaptd1B-",
        "outputId": "1b363c3a-84bd-4038-9c60-ad21ebc84bf6"
      },
      "source": [
        "s.index = time_index\n",
        "print (s['2017-01-03'])"
      ],
      "execution_count": 148,
      "outputs": [
        {
          "output_type": "stream",
          "name": "stdout",
          "text": [
            "143.68\n"
          ]
        }
      ]
    },
    {
      "cell_type": "markdown",
      "metadata": {
        "id": "Z4Jg29_VeNvl"
      },
      "source": [
        "Podemos acceder a un rango de fechas"
      ]
    },
    {
      "cell_type": "code",
      "metadata": {
        "colab": {
          "base_uri": "https://localhost:8080/"
        },
        "id": "aAVgAvUkePi8",
        "outputId": "73a48185-c47a-4358-b272-88b8605f982b"
      },
      "source": [
        "print (s['2017-01-02':'2017-01-05'])"
      ],
      "execution_count": 149,
      "outputs": [
        {
          "output_type": "stream",
          "name": "stdout",
          "text": [
            "2017-01-02    145.83\n",
            "2017-01-03    143.68\n",
            "2017-01-04    144.02\n",
            "2017-01-05    143.50\n",
            "Freq: D, Name: Apple Prices, dtype: float64\n"
          ]
        }
      ]
    },
    {
      "cell_type": "markdown",
      "metadata": {
        "id": "qQJXrzkSeay8"
      },
      "source": [
        "Series[] nos proporciona una forma muy flexible de indexar datos. Podemos agregar cualquier condición entre corchetes"
      ]
    },
    {
      "cell_type": "code",
      "metadata": {
        "colab": {
          "base_uri": "https://localhost:8080/"
        },
        "id": "WvqZIytked00",
        "outputId": "a664c6e7-5e07-4019-e073-1ab2e1c4d27c"
      },
      "source": [
        "print (s[s < np.mean(s)])\n",
        "print (s[(s > np.mean(s)) & (s < np.mean(s) + 1.64*np.std(s))])"
      ],
      "execution_count": 151,
      "outputs": [
        {
          "output_type": "stream",
          "name": "stdout",
          "text": [
            "2017-01-01    143.73\n",
            "2017-01-03    143.68\n",
            "2017-01-05    143.50\n",
            "2017-01-06    142.62\n",
            "Name: Apple Prices, dtype: float64\n",
            "2017-01-04    144.02\n",
            "Freq: D, Name: Apple Prices, dtype: float64\n"
          ]
        }
      ]
    },
    {
      "cell_type": "markdown",
      "metadata": {
        "id": "g-hoKYcceiyc"
      },
      "source": [
        "# 5. Pandas-Resampling and DataFrame"
      ]
    },
    {
      "cell_type": "markdown",
      "metadata": {
        "id": "Ve592mM5epC8"
      },
      "source": [
        "Aprenderemos sobre los métodos de remuestreo y el objeto DataFrame, que es una poderosa herramienta para el análisis de datos financieros"
      ]
    },
    {
      "cell_type": "markdown",
      "metadata": {
        "id": "JsN4E4AUex01"
      },
      "source": [
        "## 5.1 Fetching Data\n",
        "Aquí utilizamos Yahoo Finance para recuperar datos."
      ]
    },
    {
      "cell_type": "code",
      "metadata": {
        "colab": {
          "base_uri": "https://localhost:8080/"
        },
        "id": "uzIQcu2rfswU",
        "outputId": "5bc94b2b-798b-4808-a2a6-88f554c74281"
      },
      "source": [
        "!pip install yfinance"
      ],
      "execution_count": 152,
      "outputs": [
        {
          "output_type": "stream",
          "name": "stdout",
          "text": [
            "Collecting yfinance\n",
            "  Downloading yfinance-0.1.63.tar.gz (26 kB)\n",
            "Requirement already satisfied: pandas>=0.24 in /usr/local/lib/python3.7/dist-packages (from yfinance) (1.1.5)\n",
            "Requirement already satisfied: numpy>=1.15 in /usr/local/lib/python3.7/dist-packages (from yfinance) (1.19.5)\n",
            "Requirement already satisfied: requests>=2.20 in /usr/local/lib/python3.7/dist-packages (from yfinance) (2.23.0)\n",
            "Requirement already satisfied: multitasking>=0.0.7 in /usr/local/lib/python3.7/dist-packages (from yfinance) (0.0.9)\n",
            "Collecting lxml>=4.5.1\n",
            "  Downloading lxml-4.6.3-cp37-cp37m-manylinux2014_x86_64.whl (6.3 MB)\n",
            "\u001b[K     |████████████████████████████████| 6.3 MB 8.0 MB/s \n",
            "\u001b[?25hRequirement already satisfied: python-dateutil>=2.7.3 in /usr/local/lib/python3.7/dist-packages (from pandas>=0.24->yfinance) (2.8.2)\n",
            "Requirement already satisfied: pytz>=2017.2 in /usr/local/lib/python3.7/dist-packages (from pandas>=0.24->yfinance) (2018.9)\n",
            "Requirement already satisfied: six>=1.5 in /usr/local/lib/python3.7/dist-packages (from python-dateutil>=2.7.3->pandas>=0.24->yfinance) (1.15.0)\n",
            "Requirement already satisfied: chardet<4,>=3.0.2 in /usr/local/lib/python3.7/dist-packages (from requests>=2.20->yfinance) (3.0.4)\n",
            "Requirement already satisfied: idna<3,>=2.5 in /usr/local/lib/python3.7/dist-packages (from requests>=2.20->yfinance) (2.10)\n",
            "Requirement already satisfied: certifi>=2017.4.17 in /usr/local/lib/python3.7/dist-packages (from requests>=2.20->yfinance) (2021.5.30)\n",
            "Requirement already satisfied: urllib3!=1.25.0,!=1.25.1,<1.26,>=1.21.1 in /usr/local/lib/python3.7/dist-packages (from requests>=2.20->yfinance) (1.24.3)\n",
            "Building wheels for collected packages: yfinance\n",
            "  Building wheel for yfinance (setup.py) ... \u001b[?25l\u001b[?25hdone\n",
            "  Created wheel for yfinance: filename=yfinance-0.1.63-py2.py3-none-any.whl size=23918 sha256=b2293eb0e21ff2d11724f106febc27d1df15c631669dc6e16de3e2b0fbcc067f\n",
            "  Stored in directory: /root/.cache/pip/wheels/fe/87/8b/7ec24486e001d3926537f5f7801f57a74d181be25b11157983\n",
            "Successfully built yfinance\n",
            "Installing collected packages: lxml, yfinance\n",
            "  Attempting uninstall: lxml\n",
            "    Found existing installation: lxml 4.2.6\n",
            "    Uninstalling lxml-4.2.6:\n",
            "      Successfully uninstalled lxml-4.2.6\n",
            "Successfully installed lxml-4.6.3 yfinance-0.1.63\n"
          ]
        }
      ]
    },
    {
      "cell_type": "code",
      "metadata": {
        "colab": {
          "base_uri": "https://localhost:8080/",
          "height": 487
        },
        "id": "RGW0d84XgblV",
        "outputId": "96a4a688-3b2e-4179-aa69-c1850c8fb43a"
      },
      "source": [
        "import yfinance as yf\n",
        "\n",
        "aapl = yf.Ticker(\"AAPL\")\n",
        "\n",
        "# get stock info\n",
        "print(aapl.info)\n",
        "\n",
        "# get historical market data\n",
        "aapl_table = aapl.history(start=\"2016-01-01\",  end=\"2017-12-31\")\n",
        "aapl_table"
      ],
      "execution_count": 153,
      "outputs": [
        {
          "output_type": "stream",
          "name": "stdout",
          "text": [
            "{'zip': '95014', 'sector': 'Technology', 'fullTimeEmployees': 147000, 'longBusinessSummary': 'Apple Inc. designs, manufactures, and markets smartphones, personal computers, tablets, wearables, and accessories worldwide. It also sells various related services. The company offers iPhone, a line of smartphones; Mac, a line of personal computers; iPad, a line of multi-purpose tablets; and wearables, home, and accessories comprising AirPods, Apple TV, Apple Watch, Beats products, HomePod, iPod touch, and other Apple-branded and third-party accessories. It also provides AppleCare support services; cloud services store services; and operates various platforms, including the App Store, that allow customers to discover and download applications and digital content, such as books, music, video, games, and podcasts. In addition, the company offers various services, such as Apple Arcade, a game subscription service; Apple Music, which offers users a curated listening experience with on-demand radio stations; Apple News+, a subscription news and magazine service; Apple TV+, which offers exclusive original content; Apple Card, a co-branded credit card; and Apple Pay, a cashless payment service, as well as licenses its intellectual property. The company serves consumers, and small and mid-sized businesses; and the education, enterprise, and government markets. It sells and delivers third-party applications for its products through the App Store. The company also sells its products through its retail and online stores, and direct sales force; and third-party cellular network carriers, wholesalers, retailers, and resellers. Apple Inc. was founded in 1977 and is headquartered in Cupertino, California.', 'city': 'Cupertino', 'phone': '408-996-1010', 'state': 'CA', 'country': 'United States', 'companyOfficers': [], 'website': 'http://www.apple.com', 'maxAge': 1, 'address1': 'One Apple Park Way', 'industry': 'Consumer Electronics', 'ebitdaMargins': 0.31955, 'profitMargins': 0.25004, 'grossMargins': 0.41005, 'operatingCashflow': 104414003200, 'revenueGrowth': 0.364, 'operatingMargins': 0.28788, 'ebitda': 110934999040, 'targetLowPrice': 132, 'recommendationKey': 'buy', 'grossProfits': 104956000000, 'freeCashflow': 80625876992, 'targetMedianPrice': 169.64, 'currentPrice': 140.91, 'earningsGrowth': 1, 'currentRatio': 1.062, 'returnOnAssets': 0.19302, 'numberOfAnalystOpinions': 42, 'targetMeanPrice': 167.92, 'debtToEquity': 210.782, 'returnOnEquity': 1.27125, 'targetHighPrice': 190, 'totalCash': 61696000000, 'totalDebt': 135491002368, 'totalRevenue': 347155005440, 'totalCashPerShare': 3.732, 'financialCurrency': 'USD', 'revenuePerShare': 20.61, 'quickRatio': 0.887, 'recommendationMean': 1.9, 'exchange': 'NMS', 'shortName': 'Apple Inc.', 'longName': 'Apple Inc.', 'exchangeTimezoneName': 'America/New_York', 'exchangeTimezoneShortName': 'EDT', 'isEsgPopulated': False, 'gmtOffSetMilliseconds': '-14400000', 'quoteType': 'EQUITY', 'symbol': 'AAPL', 'messageBoardId': 'finmb_24937', 'market': 'us_market', 'annualHoldingsTurnover': None, 'enterpriseToRevenue': 6.951, 'beta3Year': None, 'enterpriseToEbitda': 21.751, '52WeekChange': 0.16767061, 'morningStarRiskRating': None, 'forwardEps': 5.68, 'revenueQuarterlyGrowth': None, 'sharesOutstanding': 16530199552, 'fundInceptionDate': None, 'annualReportExpenseRatio': None, 'totalAssets': None, 'bookValue': 3.882, 'sharesShort': 101107412, 'sharesPercentSharesOut': 0.0061000003, 'fundFamily': None, 'lastFiscalYearEnd': 1601078400, 'heldPercentInstitutions': 0.5869, 'netIncomeToCommon': 86801997824, 'trailingEps': 5.108, 'lastDividendValue': 0.22, 'SandP52WeekChange': 0.24707985, 'priceToBook': 36.2983, 'heldPercentInsiders': 0.00072999997, 'nextFiscalYearEnd': 1664150400, 'yield': None, 'mostRecentQuarter': 1624665600, 'shortRatio': 1.18, 'sharesShortPreviousMonthDate': 1630368000, 'floatShares': 16512974627, 'beta': 1.222222, 'enterpriseValue': 2412978896896, 'priceHint': 2, 'threeYearAverageReturn': None, 'lastSplitDate': 1598832000, 'lastSplitFactor': '4:1', 'legalType': None, 'lastDividendDate': 1628208000, 'morningStarOverallRating': None, 'earningsQuarterlyGrowth': 0.932, 'priceToSalesTrailing12Months': 6.709598, 'dateShortInterest': 1632960000, 'pegRatio': 1.38, 'ytdReturn': None, 'forwardPE': 24.8081, 'lastCapGain': None, 'shortPercentOfFloat': 0.0061000003, 'sharesShortPriorMonth': 96838699, 'impliedSharesOutstanding': None, 'category': None, 'fiveYearAverageReturn': None, 'previousClose': 141.51, 'regularMarketOpen': 141.235, 'twoHundredDayAverage': 138.28957, 'trailingAnnualDividendYield': 0.0059006433, 'payoutRatio': 0.16309999, 'volume24Hr': None, 'regularMarketDayHigh': 141.4, 'navPrice': None, 'averageDailyVolume10Day': 74294614, 'regularMarketPreviousClose': 141.51, 'fiftyDayAverage': 147.11171, 'trailingAnnualDividendRate': 0.835, 'open': 141.235, 'toCurrency': None, 'averageVolume10days': 74294614, 'expireDate': None, 'algorithm': None, 'dividendRate': 0.88, 'exDividendDate': 1628208000, 'circulatingSupply': None, 'startDate': None, 'regularMarketDayLow': 139.2, 'currency': 'USD', 'trailingPE': 27.586142, 'regularMarketVolume': 74732031, 'lastMarket': None, 'maxSupply': None, 'openInterest': None, 'marketCap': 2329270550528, 'volumeAllCurrencies': None, 'strikePrice': None, 'averageVolume': 79472161, 'dayLow': 139.2, 'ask': 140.94, 'askSize': 1400, 'volume': 74732031, 'fiftyTwoWeekHigh': 157.26, 'fromCurrency': None, 'fiveYearAvgDividendYield': 1.24, 'fiftyTwoWeekLow': 107.32, 'bid': 140.88, 'tradeable': False, 'dividendYield': 0.0062, 'bidSize': 1100, 'dayHigh': 141.4, 'regularMarketPrice': 140.91, 'logo_url': 'https://logo.clearbit.com/apple.com'}\n"
          ]
        },
        {
          "output_type": "execute_result",
          "data": {
            "text/html": [
              "<div>\n",
              "<style scoped>\n",
              "    .dataframe tbody tr th:only-of-type {\n",
              "        vertical-align: middle;\n",
              "    }\n",
              "\n",
              "    .dataframe tbody tr th {\n",
              "        vertical-align: top;\n",
              "    }\n",
              "\n",
              "    .dataframe thead th {\n",
              "        text-align: right;\n",
              "    }\n",
              "</style>\n",
              "<table border=\"1\" class=\"dataframe\">\n",
              "  <thead>\n",
              "    <tr style=\"text-align: right;\">\n",
              "      <th></th>\n",
              "      <th>Open</th>\n",
              "      <th>High</th>\n",
              "      <th>Low</th>\n",
              "      <th>Close</th>\n",
              "      <th>Volume</th>\n",
              "      <th>Dividends</th>\n",
              "      <th>Stock Splits</th>\n",
              "    </tr>\n",
              "    <tr>\n",
              "      <th>Date</th>\n",
              "      <th></th>\n",
              "      <th></th>\n",
              "      <th></th>\n",
              "      <th></th>\n",
              "      <th></th>\n",
              "      <th></th>\n",
              "      <th></th>\n",
              "    </tr>\n",
              "  </thead>\n",
              "  <tbody>\n",
              "    <tr>\n",
              "      <th>2016-01-04</th>\n",
              "      <td>23.655163</td>\n",
              "      <td>24.291439</td>\n",
              "      <td>23.514536</td>\n",
              "      <td>24.286827</td>\n",
              "      <td>270597600</td>\n",
              "      <td>0.0</td>\n",
              "      <td>0</td>\n",
              "    </tr>\n",
              "    <tr>\n",
              "      <th>2016-01-05</th>\n",
              "      <td>24.379047</td>\n",
              "      <td>24.402100</td>\n",
              "      <td>23.609061</td>\n",
              "      <td>23.678221</td>\n",
              "      <td>223164000</td>\n",
              "      <td>0.0</td>\n",
              "      <td>0</td>\n",
              "    </tr>\n",
              "    <tr>\n",
              "      <th>2016-01-06</th>\n",
              "      <td>23.182569</td>\n",
              "      <td>23.599838</td>\n",
              "      <td>23.023501</td>\n",
              "      <td>23.214844</td>\n",
              "      <td>273829600</td>\n",
              "      <td>0.0</td>\n",
              "      <td>0</td>\n",
              "    </tr>\n",
              "    <tr>\n",
              "      <th>2016-01-07</th>\n",
              "      <td>22.749166</td>\n",
              "      <td>23.083441</td>\n",
              "      <td>22.230463</td>\n",
              "      <td>22.235073</td>\n",
              "      <td>324377600</td>\n",
              "      <td>0.0</td>\n",
              "      <td>0</td>\n",
              "    </tr>\n",
              "    <tr>\n",
              "      <th>2016-01-08</th>\n",
              "      <td>22.719191</td>\n",
              "      <td>22.848290</td>\n",
              "      <td>22.306534</td>\n",
              "      <td>22.352640</td>\n",
              "      <td>283192000</td>\n",
              "      <td>0.0</td>\n",
              "      <td>0</td>\n",
              "    </tr>\n",
              "    <tr>\n",
              "      <th>...</th>\n",
              "      <td>...</td>\n",
              "      <td>...</td>\n",
              "      <td>...</td>\n",
              "      <td>...</td>\n",
              "      <td>...</td>\n",
              "      <td>...</td>\n",
              "      <td>...</td>\n",
              "    </tr>\n",
              "    <tr>\n",
              "      <th>2017-12-22</th>\n",
              "      <td>41.827760</td>\n",
              "      <td>42.004957</td>\n",
              "      <td>41.784660</td>\n",
              "      <td>41.906780</td>\n",
              "      <td>65397600</td>\n",
              "      <td>0.0</td>\n",
              "      <td>0</td>\n",
              "    </tr>\n",
              "    <tr>\n",
              "      <th>2017-12-26</th>\n",
              "      <td>40.898678</td>\n",
              "      <td>41.059112</td>\n",
              "      <td>40.630488</td>\n",
              "      <td>40.843605</td>\n",
              "      <td>132742000</td>\n",
              "      <td>0.0</td>\n",
              "      <td>0</td>\n",
              "    </tr>\n",
              "    <tr>\n",
              "      <th>2017-12-27</th>\n",
              "      <td>40.731050</td>\n",
              "      <td>40.893877</td>\n",
              "      <td>40.637663</td>\n",
              "      <td>40.850777</td>\n",
              "      <td>85992800</td>\n",
              "      <td>0.0</td>\n",
              "      <td>0</td>\n",
              "    </tr>\n",
              "    <tr>\n",
              "      <th>2017-12-28</th>\n",
              "      <td>40.946561</td>\n",
              "      <td>41.150098</td>\n",
              "      <td>40.822044</td>\n",
              "      <td>40.965717</td>\n",
              "      <td>65920800</td>\n",
              "      <td>0.0</td>\n",
              "      <td>0</td>\n",
              "    </tr>\n",
              "    <tr>\n",
              "      <th>2017-12-29</th>\n",
              "      <td>40.831625</td>\n",
              "      <td>40.848385</td>\n",
              "      <td>40.520335</td>\n",
              "      <td>40.522728</td>\n",
              "      <td>103999600</td>\n",
              "      <td>0.0</td>\n",
              "      <td>0</td>\n",
              "    </tr>\n",
              "  </tbody>\n",
              "</table>\n",
              "<p>503 rows × 7 columns</p>\n",
              "</div>"
            ],
            "text/plain": [
              "                 Open       High        Low  ...     Volume  Dividends  Stock Splits\n",
              "Date                                         ...                                    \n",
              "2016-01-04  23.655163  24.291439  23.514536  ...  270597600        0.0             0\n",
              "2016-01-05  24.379047  24.402100  23.609061  ...  223164000        0.0             0\n",
              "2016-01-06  23.182569  23.599838  23.023501  ...  273829600        0.0             0\n",
              "2016-01-07  22.749166  23.083441  22.230463  ...  324377600        0.0             0\n",
              "2016-01-08  22.719191  22.848290  22.306534  ...  283192000        0.0             0\n",
              "...               ...        ...        ...  ...        ...        ...           ...\n",
              "2017-12-22  41.827760  42.004957  41.784660  ...   65397600        0.0             0\n",
              "2017-12-26  40.898678  41.059112  40.630488  ...  132742000        0.0             0\n",
              "2017-12-27  40.731050  40.893877  40.637663  ...   85992800        0.0             0\n",
              "2017-12-28  40.946561  41.150098  40.822044  ...   65920800        0.0             0\n",
              "2017-12-29  40.831625  40.848385  40.520335  ...  103999600        0.0             0\n",
              "\n",
              "[503 rows x 7 columns]"
            ]
          },
          "metadata": {},
          "execution_count": 153
        }
      ]
    },
    {
      "cell_type": "markdown",
      "metadata": {
        "id": "1EPM1pWwgjG8"
      },
      "source": [
        "Crearemos una Serie denominada \"aapl\" cuyos valores son los precios de cierre diarios de Apple, que por supuesto están indexados por fechas"
      ]
    },
    {
      "cell_type": "code",
      "metadata": {
        "id": "sg_OTwpvgnAc"
      },
      "source": [
        "aapl = aapl_table['Close']['2017']"
      ],
      "execution_count": 154,
      "outputs": []
    },
    {
      "cell_type": "code",
      "metadata": {
        "colab": {
          "base_uri": "https://localhost:8080/"
        },
        "id": "HVRx9wmdgq_s",
        "outputId": "d02916d7-cf0c-4424-d2f2-911ed1aed8ef"
      },
      "source": [
        "print(aapl)"
      ],
      "execution_count": 155,
      "outputs": [
        {
          "output_type": "stream",
          "name": "stdout",
          "text": [
            "Date\n",
            "2017-01-03    27.372362\n",
            "2017-01-04    27.341724\n",
            "2017-01-05    27.480766\n",
            "2017-01-06    27.787134\n",
            "2017-01-09    28.041645\n",
            "                ...    \n",
            "2017-12-22    41.906780\n",
            "2017-12-26    40.843605\n",
            "2017-12-27    40.850777\n",
            "2017-12-28    40.965717\n",
            "2017-12-29    40.522728\n",
            "Name: Close, Length: 251, dtype: float64\n"
          ]
        }
      ]
    },
    {
      "cell_type": "markdown",
      "metadata": {
        "id": "WMDzLnCbgxj9"
      },
      "source": [
        "Recuerde que podemos obtener un punto de datos específico usando la serie ['aaaa-mm-dd']. También podemos obtener los datos de un mes específico mediante la serie ['aaaa-mm']."
      ]
    },
    {
      "cell_type": "code",
      "metadata": {
        "colab": {
          "base_uri": "https://localhost:8080/"
        },
        "id": "c4_wyVENgyS9",
        "outputId": "83be7556-b0ec-47c1-fd3c-45418d6b65ed"
      },
      "source": [
        "print(aapl['2017-3'])"
      ],
      "execution_count": 156,
      "outputs": [
        {
          "output_type": "stream",
          "name": "stdout",
          "text": [
            "Date\n",
            "2017-03-01    33.086285\n",
            "2017-03-02    32.889835\n",
            "2017-03-03    33.083916\n",
            "2017-03-06    32.979782\n",
            "2017-03-07    33.022377\n",
            "2017-03-08    32.899303\n",
            "2017-03-09    32.823563\n",
            "2017-03-10    32.932438\n",
            "2017-03-13    32.946644\n",
            "2017-03-14    32.896938\n",
            "2017-03-15    33.244862\n",
            "2017-03-16    33.299305\n",
            "2017-03-17    33.133621\n",
            "2017-03-20    33.481556\n",
            "2017-03-21    33.098125\n",
            "2017-03-22    33.472080\n",
            "2017-03-23    33.353741\n",
            "2017-03-24    33.287468\n",
            "2017-03-27    33.344276\n",
            "2017-03-28    34.035400\n",
            "2017-03-29    34.111134\n",
            "2017-03-30    34.066158\n",
            "2017-03-31    34.002254\n",
            "Name: Close, dtype: float64\n"
          ]
        }
      ]
    },
    {
      "cell_type": "code",
      "metadata": {
        "colab": {
          "base_uri": "https://localhost:8080/"
        },
        "id": "wQ9LjOuGg2P1",
        "outputId": "fdc60e48-0310-41bb-848a-aa0c68e2486d"
      },
      "source": [
        "aapl['2017-2':'2017-4']"
      ],
      "execution_count": 157,
      "outputs": [
        {
          "output_type": "execute_result",
          "data": {
            "text/plain": [
              "Date\n",
              "2017-02-01    30.341724\n",
              "2017-02-02    30.289877\n",
              "2017-02-03    30.419495\n",
              "2017-02-06    30.704647\n",
              "2017-02-07    30.996866\n",
              "                ...    \n",
              "2017-04-24    33.997524\n",
              "2017-04-25    34.208183\n",
              "2017-04-26    34.006989\n",
              "2017-04-27    34.033028\n",
              "2017-04-28    33.999897\n",
              "Name: Close, Length: 61, dtype: float64"
            ]
          },
          "metadata": {},
          "execution_count": 157
        }
      ]
    },
    {
      "cell_type": "code",
      "metadata": {
        "colab": {
          "base_uri": "https://localhost:8080/"
        },
        "id": "hl_KiD2bg5i5",
        "outputId": "9d6f1738-1afd-4c77-a5f1-4b7b9cde0c4e"
      },
      "source": [
        "print(aapl.head(5))\n",
        "print(aapl.tail(10))"
      ],
      "execution_count": 158,
      "outputs": [
        {
          "output_type": "stream",
          "name": "stdout",
          "text": [
            "Date\n",
            "2017-01-03    27.372362\n",
            "2017-01-04    27.341724\n",
            "2017-01-05    27.480766\n",
            "2017-01-06    27.787134\n",
            "2017-01-09    28.041645\n",
            "Name: Close, dtype: float64\n",
            "Date\n",
            "2017-12-15    41.657745\n",
            "2017-12-18    42.244404\n",
            "2017-12-19    41.794228\n",
            "2017-12-20    41.748741\n",
            "2017-12-21    41.906780\n",
            "2017-12-22    41.906780\n",
            "2017-12-26    40.843605\n",
            "2017-12-27    40.850777\n",
            "2017-12-28    40.965717\n",
            "2017-12-29    40.522728\n",
            "Name: Close, dtype: float64\n"
          ]
        }
      ]
    },
    {
      "cell_type": "markdown",
      "metadata": {
        "id": "AQ5rA9GZg_Y9"
      },
      "source": [
        "## 5.2 Resampling\n",
        "series.resample (freq) es una clase llamada \"DatetimeIndexResampler\" que agrupa datos en un objeto Series en intervalos de tiempo regulares. El argumento \"freq\" determina la longitud de cada intervalo.\n",
        "\n",
        "series.resample.mean () es una declaración completa que agrupa los datos en intervalos y luego calcula la media de cada intervalo."
      ]
    },
    {
      "cell_type": "code",
      "metadata": {
        "colab": {
          "base_uri": "https://localhost:8080/"
        },
        "id": "ts2dxrklhJGt",
        "outputId": "66a014db-508d-4891-c6e3-848e7dae129f"
      },
      "source": [
        "by_month = aapl.resample('M').mean()\n",
        "print(by_month)"
      ],
      "execution_count": 159,
      "outputs": [
        {
          "output_type": "stream",
          "name": "stdout",
          "text": [
            "Date\n",
            "2017-01-31    28.178332\n",
            "2017-02-28    31.606274\n",
            "2017-03-31    33.282220\n",
            "2017-04-30    33.819264\n",
            "2017-05-31    36.125684\n",
            "2017-06-30    35.133983\n",
            "2017-07-31    35.245242\n",
            "2017-08-31    37.897228\n",
            "2017-09-30    37.604738\n",
            "2017-10-31    37.654550\n",
            "2017-11-30    41.233916\n",
            "2017-12-31    41.160039\n",
            "Freq: M, Name: Close, dtype: float64\n"
          ]
        }
      ]
    },
    {
      "cell_type": "markdown",
      "metadata": {
        "id": "DxI2-YAYhSPl"
      },
      "source": [
        "También podemos agregar los datos por semana:"
      ]
    },
    {
      "cell_type": "code",
      "metadata": {
        "colab": {
          "base_uri": "https://localhost:8080/"
        },
        "id": "bBLE-0CZhLom",
        "outputId": "461afb81-1a22-4ac5-b285-d8572a181cfd"
      },
      "source": [
        "by_week = aapl.resample('W').mean()\n",
        "print(by_week.head())"
      ],
      "execution_count": 160,
      "outputs": [
        {
          "output_type": "stream",
          "name": "stdout",
          "text": [
            "Date\n",
            "2017-01-08    27.495497\n",
            "2017-01-15    28.097734\n",
            "2017-01-22    28.266117\n",
            "2017-01-29    28.553983\n",
            "2017-02-05    29.662541\n",
            "Freq: W-SUN, Name: Close, dtype: float64\n"
          ]
        }
      ]
    },
    {
      "cell_type": "markdown",
      "metadata": {
        "id": "tdZcZYvMhXiF"
      },
      "source": [
        "También podemos agregar los datos por mes con max:"
      ]
    },
    {
      "cell_type": "code",
      "metadata": {
        "colab": {
          "base_uri": "https://localhost:8080/"
        },
        "id": "mXTMsp-mhYHG",
        "outputId": "278c3166-b2d1-476f-aca6-415fdaa79a87"
      },
      "source": [
        "aapl.resample('M').max()"
      ],
      "execution_count": 161,
      "outputs": [
        {
          "output_type": "execute_result",
          "data": {
            "text/plain": [
              "Date\n",
              "2017-01-31    28.739216\n",
              "2017-02-28    32.451969\n",
              "2017-03-31    34.111134\n",
              "2017-04-30    34.264984\n",
              "2017-05-31    37.099129\n",
              "2017-06-30    36.944645\n",
              "2017-07-31    36.471710\n",
              "2017-08-31    39.129719\n",
              "2017-09-30    39.141651\n",
              "2017-10-31    40.332249\n",
              "2017-11-30    42.050133\n",
              "2017-12-31    42.244404\n",
              "Freq: M, Name: Close, dtype: float64"
            ]
          },
          "metadata": {},
          "execution_count": 161
        }
      ]
    },
    {
      "cell_type": "markdown",
      "metadata": {
        "id": "kJCc2--whjJE"
      },
      "source": [
        "Podemos elegir casi cualquier frecuencia usando el formato 'nf', donde 'n' es un número entero y 'f' es M para el mes, W para la semana y D para el día."
      ]
    },
    {
      "cell_type": "code",
      "metadata": {
        "colab": {
          "base_uri": "https://localhost:8080/"
        },
        "id": "XwLrb2cLhj3c",
        "outputId": "5cff22be-377e-4da5-a788-badc29fa1c7b"
      },
      "source": [
        "three_day = aapl.resample('3D').mean()\n",
        "two_week = aapl.resample('2W').mean()\n",
        "two_month = aapl.resample('2M').mean()\n",
        "\n",
        "\n",
        "print(three_day)\n",
        "print(two_week)\n",
        "print(two_month )"
      ],
      "execution_count": 162,
      "outputs": [
        {
          "output_type": "stream",
          "name": "stdout",
          "text": [
            "Date\n",
            "2017-01-03    27.398284\n",
            "2017-01-06    27.787134\n",
            "2017-01-09    28.110774\n",
            "2017-01-12    28.078174\n",
            "2017-01-15    28.279669\n",
            "                ...    \n",
            "2017-12-17    42.019316\n",
            "2017-12-20    41.854101\n",
            "2017-12-23          NaN\n",
            "2017-12-26    40.886700\n",
            "2017-12-29    40.522728\n",
            "Freq: 3D, Name: Close, Length: 121, dtype: float64\n",
            "Date\n",
            "2017-01-08    27.495497\n",
            "2017-01-22    28.172571\n",
            "2017-02-05    29.108262\n",
            "2017-02-19    31.516813\n",
            "2017-03-05    32.595556\n",
            "2017-03-19    33.017883\n",
            "2017-04-02    33.625219\n",
            "2017-04-16    33.849728\n",
            "2017-04-30    33.791846\n",
            "2017-05-14    35.697632\n",
            "2017-05-28    36.496178\n",
            "2017-06-11    36.515007\n",
            "2017-06-25    34.529045\n",
            "2017-07-09    34.265134\n",
            "2017-07-23    35.278873\n",
            "2017-08-06    36.272776\n",
            "2017-08-20    37.904118\n",
            "2017-09-03    38.458794\n",
            "2017-09-17    38.282708\n",
            "2017-10-01    36.840875\n",
            "2017-10-15    37.071594\n",
            "2017-10-29    37.757320\n",
            "2017-11-12    41.032238\n",
            "2017-11-26    41.204378\n",
            "2017-12-10    40.867067\n",
            "2017-12-24    41.620868\n",
            "2018-01-07    40.795707\n",
            "Freq: 2W-SUN, Name: Close, dtype: float64\n",
            "Date\n",
            "2017-01-31    28.178332\n",
            "2017-03-31    32.524054\n",
            "2017-05-31    35.056855\n",
            "2017-07-31    35.186964\n",
            "2017-09-30    37.761186\n",
            "2017-11-30    39.402612\n",
            "2018-01-31    41.160039\n",
            "Freq: 2M, Name: Close, dtype: float64\n"
          ]
        }
      ]
    },
    {
      "cell_type": "markdown",
      "metadata": {
        "id": "_67c6-p6hrq-"
      },
      "source": [
        "Además del método mean (), también se pueden usar otros métodos con el resampler:"
      ]
    },
    {
      "cell_type": "code",
      "metadata": {
        "colab": {
          "base_uri": "https://localhost:8080/"
        },
        "id": "62-KgH9Bhuw-",
        "outputId": "55f775ce-227f-4a81-cd89-d137b3195720"
      },
      "source": [
        "std = aapl.resample('W').std()\n",
        "max = aapl.resample('W').max()\n",
        "min = aapl.resample('W').min()\n",
        "\n",
        "\n",
        "print(std)\n",
        "print(max)\n",
        "print(min)"
      ],
      "execution_count": 163,
      "outputs": [
        {
          "output_type": "stream",
          "name": "stdout",
          "text": [
            "Date\n",
            "2017-01-08    0.203369\n",
            "2017-01-15    0.072529\n",
            "2017-01-22    0.025555\n",
            "2017-01-29    0.245287\n",
            "2017-02-05    0.943260\n",
            "2017-02-12    0.252000\n",
            "2017-02-19    0.231389\n",
            "2017-02-26    0.059348\n",
            "2017-03-05    0.340089\n",
            "2017-03-12    0.076285\n",
            "2017-03-19    0.177833\n",
            "2017-03-26    0.157262\n",
            "2017-04-02    0.319806\n",
            "2017-04-09    0.128691\n",
            "2017-04-16    0.212477\n",
            "2017-04-23    0.174674\n",
            "2017-04-30    0.090028\n",
            "2017-05-07    0.235639\n",
            "2017-05-14    0.352978\n",
            "2017-05-21    0.536095\n",
            "2017-05-28    0.060391\n",
            "2017-06-04    0.281224\n",
            "2017-06-11    0.620036\n",
            "2017-06-18    0.382564\n",
            "2017-06-25    0.128894\n",
            "2017-07-02    0.264110\n",
            "2017-07-09    0.158888\n",
            "2017-07-16    0.404281\n",
            "2017-07-23    0.124988\n",
            "2017-07-30    0.384444\n",
            "2017-08-06    0.924390\n",
            "2017-08-13    0.467466\n",
            "2017-08-20    0.435254\n",
            "2017-08-27    0.275766\n",
            "2017-09-03    0.251719\n",
            "2017-09-10    0.381637\n",
            "2017-09-17    0.294137\n",
            "2017-09-24    0.735190\n",
            "2017-10-01    0.354844\n",
            "2017-10-08    0.204857\n",
            "2017-10-15    0.118728\n",
            "2017-10-22    0.516998\n",
            "2017-10-29    0.680452\n",
            "2017-11-05    0.560680\n",
            "2017-11-12    0.190969\n",
            "2017-11-19    0.436200\n",
            "2017-11-26    0.563048\n",
            "2017-12-03    0.427446\n",
            "2017-12-10    0.073130\n",
            "2017-12-17    0.205268\n",
            "2017-12-24    0.194123\n",
            "2017-12-31    0.190393\n",
            "Freq: W-SUN, Name: Close, dtype: float64\n",
            "Date\n",
            "2017-01-08    27.787134\n",
            "2017-01-15    28.220751\n",
            "2017-01-22    28.279669\n",
            "2017-01-29    28.739216\n",
            "2017-02-05    30.419495\n",
            "2017-02-12    31.341906\n",
            "2017-02-19    32.122971\n",
            "2017-02-26    32.451969\n",
            "2017-03-05    33.086285\n",
            "2017-03-12    33.022377\n",
            "2017-03-19    33.299305\n",
            "2017-03-26    33.481556\n",
            "2017-04-02    34.111134\n",
            "2017-04-09    34.264984\n",
            "2017-04-16    33.886284\n",
            "2017-04-23    33.713505\n",
            "2017-04-30    34.208183\n",
            "2017-05-07    35.256695\n",
            "2017-05-14    37.099129\n",
            "2017-05-21    37.004066\n",
            "2017-05-28    36.597664\n",
            "2017-06-04    36.944645\n",
            "2017-06-11    36.925636\n",
            "2017-06-18    34.838959\n",
            "2017-06-25    34.779541\n",
            "2017-07-02    34.658333\n",
            "2017-07-09    34.266182\n",
            "2017-07-16    35.421234\n",
            "2017-07-23    35.891804\n",
            "2017-07-30    36.471710\n",
            "2017-08-06    37.346287\n",
            "2017-08-13    38.277931\n",
            "2017-08-20    38.557095\n",
            "2017-08-27    38.170567\n",
            "2017-09-03    39.141651\n",
            "2017-09-10    38.671619\n",
            "2017-09-17    38.533230\n",
            "2017-09-24    37.872322\n",
            "2017-10-01    36.798645\n",
            "2017-10-08    37.075413\n",
            "2017-10-15    37.457157\n",
            "2017-10-22    38.287476\n",
            "2017-10-29    38.903053\n",
            "2017-11-05    41.157784\n",
            "2017-11-12    42.050133\n",
            "2017-11-19    41.657745\n",
            "2017-11-26    41.897198\n",
            "2017-12-03    41.686478\n",
            "2017-12-10    40.659225\n",
            "2017-12-17    41.657745\n",
            "2017-12-24    42.244404\n",
            "2017-12-31    40.965717\n",
            "Freq: W-SUN, Name: Close, dtype: float64\n",
            "Date\n",
            "2017-01-08    27.341724\n",
            "2017-01-15    28.041645\n",
            "2017-01-22    28.227821\n",
            "2017-01-29    28.272600\n",
            "2017-02-05    28.597813\n",
            "2017-02-12    30.704647\n",
            "2017-02-19    31.547829\n",
            "2017-02-26    32.314682\n",
            "2017-03-05    32.409367\n",
            "2017-03-12    32.823563\n",
            "2017-03-19    32.896938\n",
            "2017-03-26    33.098125\n",
            "2017-04-02    33.344276\n",
            "2017-04-09    33.926517\n",
            "2017-04-16    33.384506\n",
            "2017-04-23    33.296932\n",
            "2017-04-30    33.997524\n",
            "2017-05-07    34.681553\n",
            "2017-05-14    36.215267\n",
            "2017-05-21    35.708797\n",
            "2017-05-28    36.443180\n",
            "2017-06-04    36.305332\n",
            "2017-06-11    35.406971\n",
            "2017-06-18    33.812260\n",
            "2017-06-25    34.463448\n",
            "2017-07-02    34.147354\n",
            "2017-07-09    33.921581\n",
            "2017-07-16    34.475338\n",
            "2017-07-23    35.544819\n",
            "2017-07-30    35.530556\n",
            "2017-08-06    35.347553\n",
            "2017-08-13    37.058716\n",
            "2017-08-20    37.578842\n",
            "2017-08-27    37.509659\n",
            "2017-09-03    38.526085\n",
            "2017-09-10    37.848465\n",
            "2017-09-17    37.764957\n",
            "2017-09-24    36.240334\n",
            "2017-10-01    35.920612\n",
            "2017-10-08    36.619690\n",
            "2017-10-15    37.182781\n",
            "2017-10-22    37.216187\n",
            "2017-10-29    37.261524\n",
            "2017-11-05    39.778709\n",
            "2017-11-12    41.575333\n",
            "2017-11-19    40.486813\n",
            "2017-11-26    40.702316\n",
            "2017-12-03    40.582588\n",
            "2017-12-10    40.470051\n",
            "2017-12-17    41.114174\n",
            "2017-12-24    41.748741\n",
            "2017-12-31    40.522728\n",
            "Freq: W-SUN, Name: Close, dtype: float64\n"
          ]
        }
      ]
    },
    {
      "cell_type": "markdown",
      "metadata": {
        "id": "cyijZImEj6g1"
      },
      "source": [
        "A menudo queremos calcular los rendimientos mensuales de una acción, en función de los precios del último día de cada mes. Para obtener esos precios, usamos el método series.resample.agg ():"
      ]
    },
    {
      "cell_type": "code",
      "metadata": {
        "colab": {
          "base_uri": "https://localhost:8080/"
        },
        "id": "BWvvvRgcj7p1",
        "outputId": "15f94efc-1713-4ab1-9ee3-6ff8a9145a05"
      },
      "source": [
        "last_day = aapl.resample('M').agg(lambda x: x[-1])\n",
        "print(last_day)"
      ],
      "execution_count": 171,
      "outputs": [
        {
          "output_type": "stream",
          "name": "stdout",
          "text": [
            "Date\n",
            "2017-01-31    28.597813\n",
            "2017-02-28    32.423569\n",
            "2017-03-31    34.002254\n",
            "2017-04-30    33.999897\n",
            "2017-05-31    36.305332\n",
            "2017-06-30    34.228165\n",
            "2017-07-31    35.347553\n",
            "2017-08-31    39.129719\n",
            "2017-09-30    36.772392\n",
            "2017-10-31    40.332249\n",
            "2017-11-30    41.150108\n",
            "2017-12-31    40.522728\n",
            "Freq: M, Name: Close, dtype: float64\n"
          ]
        }
      ]
    },
    {
      "cell_type": "markdown",
      "metadata": {
        "id": "6dMYTyphiDV9"
      },
      "source": [
        "Calcular directamente las tasas de rendimiento mensuales utilizando los datos del primer día y del último día:"
      ]
    },
    {
      "cell_type": "code",
      "metadata": {
        "colab": {
          "base_uri": "https://localhost:8080/"
        },
        "id": "n-TGiuu7iHQm",
        "outputId": "433d69ea-4189-4e3d-df67-afec4de771d1"
      },
      "source": [
        "monthly_return = aapl.resample('M').agg(lambda x: x[-1]/x[0] - 1)\n",
        "print(monthly_return)"
      ],
      "execution_count": 164,
      "outputs": [
        {
          "output_type": "stream",
          "name": "stdout",
          "text": [
            "Date\n",
            "2017-01-31    0.044770\n",
            "2017-02-28    0.068613\n",
            "2017-03-31    0.027684\n",
            "2017-04-30   -0.000348\n",
            "2017-05-31    0.046463\n",
            "2017-06-30   -0.059799\n",
            "2017-07-31    0.036446\n",
            "2017-08-31    0.097261\n",
            "2017-09-30   -0.060530\n",
            "2017-10-31    0.099019\n",
            "2017-11-30    0.033422\n",
            "2017-12-31   -0.010640\n",
            "Freq: M, Name: Close, dtype: float64\n"
          ]
        }
      ]
    },
    {
      "cell_type": "markdown",
      "metadata": {
        "id": "6-8ncSiFiOzc"
      },
      "source": [
        "El objeto Serie también nos proporciona algunos métodos convenientes para realizar cálculos rápidos."
      ]
    },
    {
      "cell_type": "code",
      "metadata": {
        "colab": {
          "base_uri": "https://localhost:8080/"
        },
        "id": "GW844APGiPac",
        "outputId": "5365398a-668d-4ecb-e468-9bda3e267068"
      },
      "source": [
        "print(monthly_return.mean())\n",
        "print(monthly_return.std())\n",
        "print(monthly_return.max())"
      ],
      "execution_count": 165,
      "outputs": [
        {
          "output_type": "stream",
          "name": "stdout",
          "text": [
            "0.026863364645339487\n",
            "0.05225853291793325\n",
            "0.09901851007954865\n"
          ]
        }
      ]
    },
    {
      "cell_type": "markdown",
      "metadata": {
        "id": "iccK4Mf0iUSU"
      },
      "source": [
        "Otros dos métodos que se utilizan con frecuencia en Series son .diff () y .pct_change (). El primero calcula la diferencia entre elementos consecutivos y el segundo calcula el cambio porcentual."
      ]
    },
    {
      "cell_type": "code",
      "metadata": {
        "colab": {
          "base_uri": "https://localhost:8080/"
        },
        "id": "a0KeiFIwiYlF",
        "outputId": "82ebbc48-4518-4523-9da7-9e2cb70b7fbb"
      },
      "source": [
        "print(last_day.diff())\n",
        "print(last_day.pct_change())"
      ],
      "execution_count": 172,
      "outputs": [
        {
          "output_type": "stream",
          "name": "stdout",
          "text": [
            "Date\n",
            "2017-01-31         NaN\n",
            "2017-02-28    3.825756\n",
            "2017-03-31    1.578686\n",
            "2017-04-30   -0.002357\n",
            "2017-05-31    2.305435\n",
            "2017-06-30   -2.077168\n",
            "2017-07-31    1.119389\n",
            "2017-08-31    3.782166\n",
            "2017-09-30   -2.357327\n",
            "2017-10-31    3.559856\n",
            "2017-11-30    0.817860\n",
            "2017-12-31   -0.627380\n",
            "Freq: M, Name: Close, dtype: float64\n",
            "Date\n",
            "2017-01-31         NaN\n",
            "2017-02-28    0.133778\n",
            "2017-03-31    0.048689\n",
            "2017-04-30   -0.000069\n",
            "2017-05-31    0.067807\n",
            "2017-06-30   -0.057214\n",
            "2017-07-31    0.032704\n",
            "2017-08-31    0.106999\n",
            "2017-09-30   -0.060244\n",
            "2017-10-31    0.096808\n",
            "2017-11-30    0.020278\n",
            "2017-12-31   -0.015246\n",
            "Freq: M, Name: Close, dtype: float64\n"
          ]
        }
      ]
    },
    {
      "cell_type": "markdown",
      "metadata": {
        "id": "GiOFz3S3jZr1"
      },
      "source": [
        "Cuando se trata de valores de NaN, normalmente eliminamos el punto de datos o lo rellenamos con un valor específico."
      ]
    },
    {
      "cell_type": "code",
      "metadata": {
        "colab": {
          "base_uri": "https://localhost:8080/"
        },
        "id": "pwQa49_pjawl",
        "outputId": "95cfa46a-9b55-43f9-dad5-430a4cb510f8"
      },
      "source": [
        "daily_return = last_day.pct_change()\n",
        "print(daily_return.fillna(0))"
      ],
      "execution_count": 173,
      "outputs": [
        {
          "output_type": "stream",
          "name": "stdout",
          "text": [
            "Date\n",
            "2017-01-31    0.000000\n",
            "2017-02-28    0.133778\n",
            "2017-03-31    0.048689\n",
            "2017-04-30   -0.000069\n",
            "2017-05-31    0.067807\n",
            "2017-06-30   -0.057214\n",
            "2017-07-31    0.032704\n",
            "2017-08-31    0.106999\n",
            "2017-09-30   -0.060244\n",
            "2017-10-31    0.096808\n",
            "2017-11-30    0.020278\n",
            "2017-12-31   -0.015246\n",
            "Freq: M, Name: Close, dtype: float64\n"
          ]
        }
      ]
    },
    {
      "cell_type": "markdown",
      "metadata": {
        "id": "6uafcT5rkPDN"
      },
      "source": [
        "Una alternativa es llenar un NaN con el siguiente valor ajustado. Esto se llama 'relleno hacia atrás' o 'bfill'"
      ]
    },
    {
      "cell_type": "code",
      "metadata": {
        "colab": {
          "base_uri": "https://localhost:8080/"
        },
        "id": "_zzfz7ajkSZV",
        "outputId": "5c9e4a23-a8d8-45a6-e8ba-c45b6fb36b24"
      },
      "source": [
        "daily_return = last_day.pct_change()\n",
        "print(daily_return.fillna(method = 'bfill'))"
      ],
      "execution_count": 174,
      "outputs": [
        {
          "output_type": "stream",
          "name": "stdout",
          "text": [
            "Date\n",
            "2017-01-31    0.133778\n",
            "2017-02-28    0.133778\n",
            "2017-03-31    0.048689\n",
            "2017-04-30   -0.000069\n",
            "2017-05-31    0.067807\n",
            "2017-06-30   -0.057214\n",
            "2017-07-31    0.032704\n",
            "2017-08-31    0.106999\n",
            "2017-09-30   -0.060244\n",
            "2017-10-31    0.096808\n",
            "2017-11-30    0.020278\n",
            "2017-12-31   -0.015246\n",
            "Freq: M, Name: Close, dtype: float64\n"
          ]
        }
      ]
    },
    {
      "cell_type": "markdown",
      "metadata": {
        "id": "toD1sYiOknOM"
      },
      "source": [
        "Como era de esperar, dado que existe un método de 'relleno hacia atrás', debe haber un método de 'relleno hacia adelante' o 'ffill' para abreviar. Sin embargo, no podemos usarlo aquí porque el NaN es el primer valor.\n",
        "\n",
        "También podemos simplemente eliminar los valores de NaN con .dropna()"
      ]
    },
    {
      "cell_type": "code",
      "metadata": {
        "colab": {
          "base_uri": "https://localhost:8080/"
        },
        "id": "m7dLnGgukqL8",
        "outputId": "79a9477e-42f9-4b34-8f4d-cab938055921"
      },
      "source": [
        "daily_return = last_day.pct_change()\n",
        "daily_return.dropna()"
      ],
      "execution_count": 175,
      "outputs": [
        {
          "output_type": "execute_result",
          "data": {
            "text/plain": [
              "Date\n",
              "2017-02-28    0.133778\n",
              "2017-03-31    0.048689\n",
              "2017-04-30   -0.000069\n",
              "2017-05-31    0.067807\n",
              "2017-06-30   -0.057214\n",
              "2017-07-31    0.032704\n",
              "2017-08-31    0.106999\n",
              "2017-09-30   -0.060244\n",
              "2017-10-31    0.096808\n",
              "2017-11-30    0.020278\n",
              "2017-12-31   -0.015246\n",
              "Freq: M, Name: Close, dtype: float64"
            ]
          },
          "metadata": {},
          "execution_count": 175
        }
      ]
    },
    {
      "cell_type": "markdown",
      "metadata": {
        "id": "UK4DVk6xkvLl"
      },
      "source": [
        "## 5.3 DataFrame\n",
        "El DataFrame es la estructura de datos más utilizada en Pandas. Es esencialmente una tabla, como una hoja de cálculo de Excel.\n",
        "\n",
        "Más precisamente, un DataFrame es una colección de objetos Series, cada uno de los cuales puede contener diferentes tipos de datos. Se puede crear un DataFrame a partir de varios tipos de datos: diccionario, numpy.ndarray 2-D, una serie u otro DataFrame"
      ]
    },
    {
      "cell_type": "markdown",
      "metadata": {
        "id": "iXCd4WWakytm"
      },
      "source": [
        "### Create DataFrames\n",
        "El método más común para crear un DataFrame es pasar un diccionario"
      ]
    },
    {
      "cell_type": "code",
      "metadata": {
        "colab": {
          "base_uri": "https://localhost:8080/"
        },
        "id": "t13z9VejlImV",
        "outputId": "5835ccf2-4059-42a6-d0f3-82f32718a133"
      },
      "source": [
        "import pandas as pd\n",
        "\n",
        "dict = {'AAPL': [143.5, 144.09, 142.73, 144.18, 143.77],'GOOG':[898.7, 911.71, 906.69, 918.59, 926.99],\n",
        "        'IBM':[155.58, 153.67, 152.36, 152.94, 153.49]}\n",
        "data_index = pd.date_range('2017-07-03',periods = 5, freq = 'D')\n",
        "df = pd.DataFrame(dict, index = data_index)\n",
        "print(df)"
      ],
      "execution_count": 176,
      "outputs": [
        {
          "output_type": "stream",
          "name": "stdout",
          "text": [
            "              AAPL    GOOG     IBM\n",
            "2017-07-03  143.50  898.70  155.58\n",
            "2017-07-04  144.09  911.71  153.67\n",
            "2017-07-05  142.73  906.69  152.36\n",
            "2017-07-06  144.18  918.59  152.94\n",
            "2017-07-07  143.77  926.99  153.49\n"
          ]
        }
      ]
    },
    {
      "cell_type": "markdown",
      "metadata": {
        "id": "3O7WCzAolNue"
      },
      "source": [
        "### Manipulating DataFrames\n",
        "Podemos buscar valores en un DataFrame por columnas e índice. Cada columna de un DataFrame es esencialmente una serie Pandas. Podemos buscar una columna entre corchetes: df ['column_name']\n",
        "\n",
        "Si el nombre de una columna no contiene espacios, también podemos usar df.column_name para buscar una columna"
      ]
    },
    {
      "cell_type": "code",
      "metadata": {
        "colab": {
          "base_uri": "https://localhost:8080/"
        },
        "id": "H5LB1uwAlVYF",
        "outputId": "cf7779df-7a36-417f-fea1-1e0ab8eb4db8"
      },
      "source": [
        "df = aapl_table\n",
        "print(df.Close.tail(5))\n",
        "print(df['Volume'].tail(5))"
      ],
      "execution_count": 177,
      "outputs": [
        {
          "output_type": "stream",
          "name": "stdout",
          "text": [
            "Date\n",
            "2017-12-22    41.906780\n",
            "2017-12-26    40.843605\n",
            "2017-12-27    40.850777\n",
            "2017-12-28    40.965717\n",
            "2017-12-29    40.522728\n",
            "Name: Close, dtype: float64\n",
            "Date\n",
            "2017-12-22     65397600\n",
            "2017-12-26    132742000\n",
            "2017-12-27     85992800\n",
            "2017-12-28     65920800\n",
            "2017-12-29    103999600\n",
            "Name: Volume, dtype: int64\n"
          ]
        }
      ]
    },
    {
      "cell_type": "markdown",
      "metadata": {
        "id": "EbgcDlvXlgPG"
      },
      "source": [
        "\n",
        "Todos los métodos que aplicamos a un índice de Series, como iloc[], loc[] y métodos de remuestreo, también se pueden aplicar a un DataFrame"
      ]
    },
    {
      "cell_type": "code",
      "metadata": {
        "colab": {
          "base_uri": "https://localhost:8080/"
        },
        "id": "Gz5rO7Dfli5O",
        "outputId": "17f756ff-bb7c-46dc-8206-05579a936e1e"
      },
      "source": [
        "aapl_2016 = df['2016']\n",
        "aapl_month = aapl_2016.resample('M').agg(lambda x: x[-1])\n",
        "print(aapl_month)"
      ],
      "execution_count": 178,
      "outputs": [
        {
          "output_type": "stream",
          "name": "stdout",
          "text": [
            "                 Open       High        Low  ...     Volume  Dividends  Stock Splits\n",
            "Date                                         ...                                    \n",
            "2016-01-31  21.852384  22.440247  21.750948  ...  257666000        0.0             0\n",
            "2016-02-29  22.450755  22.768302  22.402081  ...  140865200        0.0             0\n",
            "2016-03-31  25.431520  25.473242  25.236819  ...  103553600        0.0             0\n",
            "2016-04-30  21.785533  21.954737  21.442491  ...  274126000        0.0             0\n",
            "2016-05-31  23.226409  23.412967  23.044516  ...  169228800        0.0             0\n",
            "2016-06-30  22.023114  22.333264  21.990466  ...  143345600        0.0             0\n",
            "2016-07-31  24.296782  24.380733  24.177851  ...  110934800        0.0             0\n",
            "2016-08-31  24.773058  24.986415  24.768367  ...  118649600        0.0             0\n",
            "2016-09-30  26.367390  26.580749  26.212647  ...  145516400        0.0             0\n",
            "2016-10-31  26.646394  26.782382  26.540886  ...  105677600        0.0             0\n",
            "2016-11-30  26.300088  26.441486  25.986654  ...  144649200        0.0             0\n",
            "2016-12-31  27.490193  27.619807  27.202683  ...  122345200        0.0             0\n",
            "\n",
            "[12 rows x 7 columns]\n"
          ]
        }
      ]
    },
    {
      "cell_type": "markdown",
      "metadata": {
        "id": "HzukFxuUlppl"
      },
      "source": [
        "Podemos seleccionar ciertas columnas de un DataFrame usando sus nombres"
      ]
    },
    {
      "cell_type": "code",
      "metadata": {
        "colab": {
          "base_uri": "https://localhost:8080/"
        },
        "id": "1FxkhPsolqZW",
        "outputId": "cecc4787-1aa1-46b3-f156-eacdd8f12a89"
      },
      "source": [
        "aapl_bar = aapl_month[['Open', 'High', 'Low', 'Close']]\n",
        "print(aapl_bar)"
      ],
      "execution_count": 179,
      "outputs": [
        {
          "output_type": "stream",
          "name": "stdout",
          "text": [
            "                 Open       High        Low      Close\n",
            "Date                                                  \n",
            "2016-01-31  21.852384  22.440247  21.750948  22.440247\n",
            "2016-02-29  22.450755  22.768302  22.402081  22.411352\n",
            "2016-03-31  25.431520  25.473242  25.236819  25.262316\n",
            "2016-04-30  21.785533  21.954737  21.442491  21.727587\n",
            "2016-05-31  23.226409  23.412967  23.044516  23.287041\n",
            "2016-06-30  22.023114  22.333264  21.990466  22.293621\n",
            "2016-07-31  24.296782  24.380733  24.177851  24.301445\n",
            "2016-08-31  24.773058  24.986415  24.768367  24.876219\n",
            "2016-09-30  26.367390  26.580749  26.212647  26.505722\n",
            "2016-10-31  26.646394  26.782382  26.540886  26.620604\n",
            "2016-11-30  26.300088  26.441486  25.986654  26.045570\n",
            "2016-12-31  27.490193  27.619807  27.202683  27.294592\n"
          ]
        }
      ]
    },
    {
      "cell_type": "markdown",
      "metadata": {
        "id": "H1-BVXBVlw0t"
      },
      "source": [
        "Incluso podemos especificar tanto filas como columnas usando loc[]. Los índices de fila y los nombres de columna están separados por una coma"
      ]
    },
    {
      "cell_type": "code",
      "metadata": {
        "colab": {
          "base_uri": "https://localhost:8080/"
        },
        "id": "5ysxnEAxlx-f",
        "outputId": "252addc9-7e27-45b3-e601-8cf9588b582e"
      },
      "source": [
        "print(aapl_month.loc['2016-03':'2016-06',['Open', 'High', 'Low', 'Close']])"
      ],
      "execution_count": 180,
      "outputs": [
        {
          "output_type": "stream",
          "name": "stdout",
          "text": [
            "                 Open       High        Low      Close\n",
            "Date                                                  \n",
            "2016-03-31  25.431520  25.473242  25.236819  25.262316\n",
            "2016-04-30  21.785533  21.954737  21.442491  21.727587\n",
            "2016-05-31  23.226409  23.412967  23.044516  23.287041\n",
            "2016-06-30  22.023114  22.333264  21.990466  22.293621\n"
          ]
        }
      ]
    },
    {
      "cell_type": "markdown",
      "metadata": {
        "id": "idHAO1hgl3w-"
      },
      "source": [
        "Los métodos de subconjunto en DataFrame son bastante útiles. Al escribir declaraciones lógicas entre corchetes, podemos crear subconjuntos personalizados"
      ]
    },
    {
      "cell_type": "code",
      "metadata": {
        "colab": {
          "base_uri": "https://localhost:8080/"
        },
        "id": "6iKhK6Hnl4gN",
        "outputId": "28458339-2843-4f20-9340-e4ec8e33b5ee"
      },
      "source": [
        "above = aapl_bar[aapl_bar.Close > np.mean(aapl_bar.Close)]\n",
        "print(above)"
      ],
      "execution_count": 183,
      "outputs": [
        {
          "output_type": "stream",
          "name": "stdout",
          "text": [
            "                 Open       High        Low      Close\n",
            "Date                                                  \n",
            "2016-03-31  25.431520  25.473242  25.236819  25.262316\n",
            "2016-08-31  24.773058  24.986415  24.768367  24.876219\n",
            "2016-09-30  26.367390  26.580749  26.212647  26.505722\n",
            "2016-10-31  26.646394  26.782382  26.540886  26.620604\n",
            "2016-11-30  26.300088  26.441486  25.986654  26.045570\n",
            "2016-12-31  27.490193  27.619807  27.202683  27.294592\n"
          ]
        }
      ]
    },
    {
      "cell_type": "markdown",
      "metadata": {
        "id": "W6SqARoPmMpW"
      },
      "source": [
        "### Data Validation\n",
        "Aquí agregamos una nueva columna a un DataFrame existente"
      ]
    },
    {
      "cell_type": "code",
      "metadata": {
        "colab": {
          "base_uri": "https://localhost:8080/"
        },
        "id": "kiE-SHK3mVqd",
        "outputId": "7b4ea39b-d76a-4410-8999-52d1dca3aa6b"
      },
      "source": [
        "aapl_bar['rate_return'] = aapl_bar.Close.pct_change()\n",
        "print(aapl_bar)"
      ],
      "execution_count": 184,
      "outputs": [
        {
          "output_type": "stream",
          "name": "stdout",
          "text": [
            "                 Open       High        Low      Close  rate_return\n",
            "Date                                                               \n",
            "2016-01-31  21.852384  22.440247  21.750948  22.440247          NaN\n",
            "2016-02-29  22.450755  22.768302  22.402081  22.411352    -0.001288\n",
            "2016-03-31  25.431520  25.473242  25.236819  25.262316     0.127211\n",
            "2016-04-30  21.785533  21.954737  21.442491  21.727587    -0.139921\n",
            "2016-05-31  23.226409  23.412967  23.044516  23.287041     0.071773\n",
            "2016-06-30  22.023114  22.333264  21.990466  22.293621    -0.042660\n",
            "2016-07-31  24.296782  24.380733  24.177851  24.301445     0.090063\n",
            "2016-08-31  24.773058  24.986415  24.768367  24.876219     0.023652\n",
            "2016-09-30  26.367390  26.580749  26.212647  26.505722     0.065504\n",
            "2016-10-31  26.646394  26.782382  26.540886  26.620604     0.004334\n",
            "2016-11-30  26.300088  26.441486  25.986654  26.045570    -0.021601\n",
            "2016-12-31  27.490193  27.619807  27.202683  27.294592     0.047955\n"
          ]
        },
        {
          "output_type": "stream",
          "name": "stderr",
          "text": [
            "/usr/local/lib/python3.7/dist-packages/ipykernel_launcher.py:1: SettingWithCopyWarning: \n",
            "A value is trying to be set on a copy of a slice from a DataFrame.\n",
            "Try using .loc[row_indexer,col_indexer] = value instead\n",
            "\n",
            "See the caveats in the documentation: https://pandas.pydata.org/pandas-docs/stable/user_guide/indexing.html#returning-a-view-versus-a-copy\n",
            "  \"\"\"Entry point for launching an IPython kernel.\n"
          ]
        }
      ]
    },
    {
      "cell_type": "markdown",
      "metadata": {
        "id": "0ZohJVPIme4W"
      },
      "source": [
        "Aquí el cálculo introdujo un valor de NaN. Si el DataFrame es grande, no podríamos observarlo. isnull () proporciona una forma conveniente de verificar valores anormales."
      ]
    },
    {
      "cell_type": "code",
      "metadata": {
        "colab": {
          "base_uri": "https://localhost:8080/"
        },
        "id": "R2HJbAlKmf19",
        "outputId": "c71ade42-94fa-41a1-f3a7-a8e648b9d7a4"
      },
      "source": [
        "missing = aapl_bar.isnull()\n",
        "print(missing)\n",
        "print('---------------------------------------------')\n",
        "print(missing.describe())"
      ],
      "execution_count": 185,
      "outputs": [
        {
          "output_type": "stream",
          "name": "stdout",
          "text": [
            "             Open   High    Low  Close  rate_return\n",
            "Date                                               \n",
            "2016-01-31  False  False  False  False         True\n",
            "2016-02-29  False  False  False  False        False\n",
            "2016-03-31  False  False  False  False        False\n",
            "2016-04-30  False  False  False  False        False\n",
            "2016-05-31  False  False  False  False        False\n",
            "2016-06-30  False  False  False  False        False\n",
            "2016-07-31  False  False  False  False        False\n",
            "2016-08-31  False  False  False  False        False\n",
            "2016-09-30  False  False  False  False        False\n",
            "2016-10-31  False  False  False  False        False\n",
            "2016-11-30  False  False  False  False        False\n",
            "2016-12-31  False  False  False  False        False\n",
            "---------------------------------------------\n",
            "         Open   High    Low  Close rate_return\n",
            "count      12     12     12     12          12\n",
            "unique      1      1      1      1           2\n",
            "top     False  False  False  False       False\n",
            "freq       12     12     12     12          11\n"
          ]
        }
      ]
    },
    {
      "cell_type": "markdown",
      "metadata": {
        "id": "EMO4e8Vcmt-N"
      },
      "source": [
        "La fila etiquetada como \"unique\" indica el número de valores únicos en cada columna. Dado que la columna \"rate_return\" tiene 2 valores únicos, tiene al menos un valor faltante.\n",
        "\n",
        "Podemos deducir el número de valores perdidos comparando \"count\" con \"freq\". Hay 12 recuentos y 11 valores falsos, por lo que hay un valor verdadero que corresponde al valor perdido.\n",
        "\n",
        "También podemos encontrar fácilmente las filas con valores perdidos"
      ]
    },
    {
      "cell_type": "code",
      "metadata": {
        "colab": {
          "base_uri": "https://localhost:8080/"
        },
        "id": "hiUx9permzOV",
        "outputId": "6d72467b-f2a5-40f2-e937-a8989b202499"
      },
      "source": [
        "print(missing[missing.rate_return == True])"
      ],
      "execution_count": 186,
      "outputs": [
        {
          "output_type": "stream",
          "name": "stdout",
          "text": [
            "             Open   High    Low  Close  rate_return\n",
            "Date                                               \n",
            "2016-01-31  False  False  False  False         True\n"
          ]
        }
      ]
    },
    {
      "cell_type": "markdown",
      "metadata": {
        "id": "VFGtIWLtm7vV"
      },
      "source": [
        "Por lo general, cuando se trata de datos faltantes, eliminamos toda la fila o la llenamos con algún valor. Como presentamos en el capítulo Series, el mismo método dropna() y fillna() se puede aplicar a un DataFrame."
      ]
    },
    {
      "cell_type": "code",
      "metadata": {
        "colab": {
          "base_uri": "https://localhost:8080/"
        },
        "id": "X7rOW8T1m7hW",
        "outputId": "eae11e99-02fa-460e-ef30-788684ff0e5e"
      },
      "source": [
        "drop = aapl_bar.dropna()\n",
        "print(drop)\n",
        "print('\\n--------------------------------------------------\\n')\n",
        "fill = aapl_bar.fillna(0)\n",
        "print(fill)"
      ],
      "execution_count": 187,
      "outputs": [
        {
          "output_type": "stream",
          "name": "stdout",
          "text": [
            "                 Open       High        Low      Close  rate_return\n",
            "Date                                                               \n",
            "2016-02-29  22.450755  22.768302  22.402081  22.411352    -0.001288\n",
            "2016-03-31  25.431520  25.473242  25.236819  25.262316     0.127211\n",
            "2016-04-30  21.785533  21.954737  21.442491  21.727587    -0.139921\n",
            "2016-05-31  23.226409  23.412967  23.044516  23.287041     0.071773\n",
            "2016-06-30  22.023114  22.333264  21.990466  22.293621    -0.042660\n",
            "2016-07-31  24.296782  24.380733  24.177851  24.301445     0.090063\n",
            "2016-08-31  24.773058  24.986415  24.768367  24.876219     0.023652\n",
            "2016-09-30  26.367390  26.580749  26.212647  26.505722     0.065504\n",
            "2016-10-31  26.646394  26.782382  26.540886  26.620604     0.004334\n",
            "2016-11-30  26.300088  26.441486  25.986654  26.045570    -0.021601\n",
            "2016-12-31  27.490193  27.619807  27.202683  27.294592     0.047955\n",
            "\n",
            "--------------------------------------------------\n",
            "\n",
            "                 Open       High        Low      Close  rate_return\n",
            "Date                                                               \n",
            "2016-01-31  21.852384  22.440247  21.750948  22.440247     0.000000\n",
            "2016-02-29  22.450755  22.768302  22.402081  22.411352    -0.001288\n",
            "2016-03-31  25.431520  25.473242  25.236819  25.262316     0.127211\n",
            "2016-04-30  21.785533  21.954737  21.442491  21.727587    -0.139921\n",
            "2016-05-31  23.226409  23.412967  23.044516  23.287041     0.071773\n",
            "2016-06-30  22.023114  22.333264  21.990466  22.293621    -0.042660\n",
            "2016-07-31  24.296782  24.380733  24.177851  24.301445     0.090063\n",
            "2016-08-31  24.773058  24.986415  24.768367  24.876219     0.023652\n",
            "2016-09-30  26.367390  26.580749  26.212647  26.505722     0.065504\n",
            "2016-10-31  26.646394  26.782382  26.540886  26.620604     0.004334\n",
            "2016-11-30  26.300088  26.441486  25.986654  26.045570    -0.021601\n",
            "2016-12-31  27.490193  27.619807  27.202683  27.294592     0.047955\n"
          ]
        }
      ]
    },
    {
      "cell_type": "markdown",
      "metadata": {
        "id": "E2jXrWujnE5v"
      },
      "source": [
        "### DataFrame Concat\n",
        "Hemos visto cómo extraer una serie de un marco de datos. Ahora debemos considerar cómo fusionar una serie o un DataFrame en otro.\n",
        "\n",
        "En Pandas, la función concat() nos permite fusionar múltiples Series en un DataFrame"
      ]
    },
    {
      "cell_type": "code",
      "metadata": {
        "colab": {
          "base_uri": "https://localhost:8080/"
        },
        "id": "kJxdCb5NnM7u",
        "outputId": "969fff12-a437-4a3d-ef3e-6bb26d452219"
      },
      "source": [
        "s1 = pd.Series([143.5, 144.09, 142.73, 144.18, 143.77], name = 'AAPL')\n",
        "s2 = pd.Series([898.7, 911.71, 906.69, 918.59, 926.99], name = 'GOOG')\n",
        "data_frame = pd.concat([s1,s2], axis = 1)\n",
        "print(data_frame)"
      ],
      "execution_count": 188,
      "outputs": [
        {
          "output_type": "stream",
          "name": "stdout",
          "text": [
            "     AAPL    GOOG\n",
            "0  143.50  898.70\n",
            "1  144.09  911.71\n",
            "2  142.73  906.69\n",
            "3  144.18  918.59\n",
            "4  143.77  926.99\n"
          ]
        }
      ]
    },
    {
      "cell_type": "markdown",
      "metadata": {
        "id": "8Y0kHbJ3nUYP"
      },
      "source": [
        "El parámetro \"axis = 1\" unirá dos DataFrames por columnas"
      ]
    },
    {
      "cell_type": "code",
      "metadata": {
        "colab": {
          "base_uri": "https://localhost:8080/"
        },
        "id": "sF0AF730nVbF",
        "outputId": "7ec9de01-2b41-45e2-97de-4970360219cf"
      },
      "source": [
        "log_price = np.log(aapl_bar.Close)\n",
        "log_price.name = 'log_price'\n",
        "print(log_price)\n",
        "print('\\n---------------------- separate line--------------------\\n')\n",
        "concat = pd.concat([aapl_bar, log_price], axis = 1)\n",
        "print(concat)"
      ],
      "execution_count": 189,
      "outputs": [
        {
          "output_type": "stream",
          "name": "stdout",
          "text": [
            "Date\n",
            "2016-01-31    3.110856\n",
            "2016-02-29    3.109568\n",
            "2016-03-31    3.229314\n",
            "2016-04-30    3.078583\n",
            "2016-05-31    3.147897\n",
            "2016-06-30    3.104301\n",
            "2016-07-31    3.190536\n",
            "2016-08-31    3.213912\n",
            "2016-09-30    3.277361\n",
            "2016-10-31    3.281685\n",
            "2016-11-30    3.259848\n",
            "2016-12-31    3.306689\n",
            "Freq: M, Name: log_price, dtype: float64\n",
            "\n",
            "---------------------- separate line--------------------\n",
            "\n",
            "                 Open       High        Low      Close  rate_return  log_price\n",
            "Date                                                                          \n",
            "2016-01-31  21.852384  22.440247  21.750948  22.440247          NaN   3.110856\n",
            "2016-02-29  22.450755  22.768302  22.402081  22.411352    -0.001288   3.109568\n",
            "2016-03-31  25.431520  25.473242  25.236819  25.262316     0.127211   3.229314\n",
            "2016-04-30  21.785533  21.954737  21.442491  21.727587    -0.139921   3.078583\n",
            "2016-05-31  23.226409  23.412967  23.044516  23.287041     0.071773   3.147897\n",
            "2016-06-30  22.023114  22.333264  21.990466  22.293621    -0.042660   3.104301\n",
            "2016-07-31  24.296782  24.380733  24.177851  24.301445     0.090063   3.190536\n",
            "2016-08-31  24.773058  24.986415  24.768367  24.876219     0.023652   3.213912\n",
            "2016-09-30  26.367390  26.580749  26.212647  26.505722     0.065504   3.277361\n",
            "2016-10-31  26.646394  26.782382  26.540886  26.620604     0.004334   3.281685\n",
            "2016-11-30  26.300088  26.441486  25.986654  26.045570    -0.021601   3.259848\n",
            "2016-12-31  27.490193  27.619807  27.202683  27.294592     0.047955   3.306689\n"
          ]
        }
      ]
    },
    {
      "cell_type": "markdown",
      "metadata": {
        "id": "HYhuwZTsnbcN"
      },
      "source": [
        "También podemos unir dos DataFrames por filas. Considere estos dos DataFrames"
      ]
    },
    {
      "cell_type": "code",
      "metadata": {
        "colab": {
          "base_uri": "https://localhost:8080/"
        },
        "id": "aRYLXrqdnb3N",
        "outputId": "36a4601b-cda1-4dc3-b3a0-2896594d7d45"
      },
      "source": [
        "df_volume = aapl_table.loc['2016-10':'2017-04',['Volume', 'Stock Splits']].resample('M').agg(lambda x: x[-1])\n",
        "print(df_volume)\n",
        "print('\\n---------------------- separate line--------------------\\n')\n",
        "df_2017 = aapl_table.loc['2016-10':'2017-04',['Open', 'High', 'Low', 'Close']].resample('M').agg(lambda x: x[-1])\n",
        "print(df_2017)"
      ],
      "execution_count": 190,
      "outputs": [
        {
          "output_type": "stream",
          "name": "stdout",
          "text": [
            "               Volume  Stock Splits\n",
            "Date                               \n",
            "2016-10-31  105677600             0\n",
            "2016-11-30  144649200             0\n",
            "2016-12-31  122345200             0\n",
            "2017-01-31  196804000             0\n",
            "2017-02-28   93931600             0\n",
            "2017-03-31   78646800             0\n",
            "2017-04-30   83441600             0\n",
            "\n",
            "---------------------- separate line--------------------\n",
            "\n",
            "                 Open       High        Low      Close\n",
            "Date                                                  \n",
            "2016-10-31  26.646394  26.782382  26.540886  26.620604\n",
            "2016-11-30  26.300088  26.441486  25.986654  26.045570\n",
            "2016-12-31  27.490193  27.619807  27.202683  27.294592\n",
            "2017-01-31  28.550681  28.607239  28.425779  28.597813\n",
            "2017-02-28  32.444870  32.530077  32.354928  32.423569\n",
            "2017-03-31  34.016455  34.146633  33.848407  34.002254\n",
            "2017-04-30  34.104039  34.153745  33.909959  33.999897\n"
          ]
        }
      ]
    },
    {
      "cell_type": "markdown",
      "metadata": {
        "id": "H_X4pyi-ntxX"
      },
      "source": [
        "Ahora fusionamos los DataFrames con nuestro DataFrame 'aapl_bar'"
      ]
    },
    {
      "cell_type": "code",
      "metadata": {
        "colab": {
          "base_uri": "https://localhost:8080/"
        },
        "id": "GYB0b9E9nwEm",
        "outputId": "2ff41a17-7ecc-4a94-fd73-c88b32df3359"
      },
      "source": [
        "concat = pd.concat([aapl_bar, df_volume], axis = 1)\n",
        "print(concat)\n"
      ],
      "execution_count": 191,
      "outputs": [
        {
          "output_type": "stream",
          "name": "stdout",
          "text": [
            "                 Open       High  ...       Volume  Stock Splits\n",
            "Date                              ...                           \n",
            "2016-01-31  21.852384  22.440247  ...          NaN           NaN\n",
            "2016-02-29  22.450755  22.768302  ...          NaN           NaN\n",
            "2016-03-31  25.431520  25.473242  ...          NaN           NaN\n",
            "2016-04-30  21.785533  21.954737  ...          NaN           NaN\n",
            "2016-05-31  23.226409  23.412967  ...          NaN           NaN\n",
            "2016-06-30  22.023114  22.333264  ...          NaN           NaN\n",
            "2016-07-31  24.296782  24.380733  ...          NaN           NaN\n",
            "2016-08-31  24.773058  24.986415  ...          NaN           NaN\n",
            "2016-09-30  26.367390  26.580749  ...          NaN           NaN\n",
            "2016-10-31  26.646394  26.782382  ...  105677600.0           0.0\n",
            "2016-11-30  26.300088  26.441486  ...  144649200.0           0.0\n",
            "2016-12-31  27.490193  27.619807  ...  122345200.0           0.0\n",
            "2017-01-31        NaN        NaN  ...  196804000.0           0.0\n",
            "2017-02-28        NaN        NaN  ...   93931600.0           0.0\n",
            "2017-03-31        NaN        NaN  ...   78646800.0           0.0\n",
            "2017-04-30        NaN        NaN  ...   83441600.0           0.0\n",
            "\n",
            "[16 rows x 7 columns]\n"
          ]
        }
      ]
    },
    {
      "cell_type": "markdown",
      "metadata": {
        "id": "1xvblki4n58_"
      },
      "source": [
        "De forma predeterminada, los DataFrame se unen con todos los datos. Esta opción predeterminada da como resultado una pérdida de información cero. También podemos fusionarlos por intersección, esto se llama 'inner join (unión interna)'"
      ]
    },
    {
      "cell_type": "code",
      "metadata": {
        "colab": {
          "base_uri": "https://localhost:8080/"
        },
        "id": "xeRLQ0JRn7Md",
        "outputId": "57ff2415-8856-422b-f97d-4587a73c45e4"
      },
      "source": [
        "concat = pd.concat([aapl_bar,df_volume],axis = 1, join = 'inner')\n",
        "print(concat)"
      ],
      "execution_count": 192,
      "outputs": [
        {
          "output_type": "stream",
          "name": "stdout",
          "text": [
            "                 Open       High  ...     Volume  Stock Splits\n",
            "Date                              ...                         \n",
            "2016-10-31  26.646394  26.782382  ...  105677600             0\n",
            "2016-11-30  26.300088  26.441486  ...  144649200             0\n",
            "2016-12-31  27.490193  27.619807  ...  122345200             0\n",
            "\n",
            "[3 rows x 7 columns]\n"
          ]
        }
      ]
    },
    {
      "cell_type": "markdown",
      "metadata": {
        "id": "8FGx0BaToD6h"
      },
      "source": [
        "Solo se dejó la parte de la intersección si se usa el método de 'inner join (unión interna)'. Ahora intentemos agregar un DataFrame a otro"
      ]
    },
    {
      "cell_type": "code",
      "metadata": {
        "colab": {
          "base_uri": "https://localhost:8080/"
        },
        "id": "O0mdc5muoQYl",
        "outputId": "16993f61-8375-4199-bff5-96dc310ee12b"
      },
      "source": [
        "append = aapl_bar.append(df_2017)\n",
        "print(append)"
      ],
      "execution_count": 193,
      "outputs": [
        {
          "output_type": "stream",
          "name": "stdout",
          "text": [
            "                 Open       High        Low      Close  rate_return\n",
            "Date                                                               \n",
            "2016-01-31  21.852384  22.440247  21.750948  22.440247          NaN\n",
            "2016-02-29  22.450755  22.768302  22.402081  22.411352    -0.001288\n",
            "2016-03-31  25.431520  25.473242  25.236819  25.262316     0.127211\n",
            "2016-04-30  21.785533  21.954737  21.442491  21.727587    -0.139921\n",
            "2016-05-31  23.226409  23.412967  23.044516  23.287041     0.071773\n",
            "2016-06-30  22.023114  22.333264  21.990466  22.293621    -0.042660\n",
            "2016-07-31  24.296782  24.380733  24.177851  24.301445     0.090063\n",
            "2016-08-31  24.773058  24.986415  24.768367  24.876219     0.023652\n",
            "2016-09-30  26.367390  26.580749  26.212647  26.505722     0.065504\n",
            "2016-10-31  26.646394  26.782382  26.540886  26.620604     0.004334\n",
            "2016-11-30  26.300088  26.441486  25.986654  26.045570    -0.021601\n",
            "2016-12-31  27.490193  27.619807  27.202683  27.294592     0.047955\n",
            "2016-10-31  26.646394  26.782382  26.540886  26.620604          NaN\n",
            "2016-11-30  26.300088  26.441486  25.986654  26.045570          NaN\n",
            "2016-12-31  27.490193  27.619807  27.202683  27.294592          NaN\n",
            "2017-01-31  28.550681  28.607239  28.425779  28.597813          NaN\n",
            "2017-02-28  32.444870  32.530077  32.354928  32.423569          NaN\n",
            "2017-03-31  34.016455  34.146633  33.848407  34.002254          NaN\n",
            "2017-04-30  34.104039  34.153745  33.909959  33.999897          NaN\n"
          ]
        }
      ]
    },
    {
      "cell_type": "markdown",
      "metadata": {
        "id": "XjuLjaZcoWm4"
      },
      "source": [
        "'Append' es esencialmente para concatenar dos DataFrames por eje = 0, por lo tanto, aquí hay una forma alternativa de agregar:"
      ]
    },
    {
      "cell_type": "code",
      "metadata": {
        "colab": {
          "base_uri": "https://localhost:8080/"
        },
        "id": "OvuSMMP2obdJ",
        "outputId": "0b7ddbf0-4e95-4076-e500-b2ea2ea60a32"
      },
      "source": [
        "concat = pd.concat([aapl_bar, df_2017], axis = 0)\n",
        "print(concat)"
      ],
      "execution_count": 194,
      "outputs": [
        {
          "output_type": "stream",
          "name": "stdout",
          "text": [
            "                 Open       High        Low      Close  rate_return\n",
            "Date                                                               \n",
            "2016-01-31  21.852384  22.440247  21.750948  22.440247          NaN\n",
            "2016-02-29  22.450755  22.768302  22.402081  22.411352    -0.001288\n",
            "2016-03-31  25.431520  25.473242  25.236819  25.262316     0.127211\n",
            "2016-04-30  21.785533  21.954737  21.442491  21.727587    -0.139921\n",
            "2016-05-31  23.226409  23.412967  23.044516  23.287041     0.071773\n",
            "2016-06-30  22.023114  22.333264  21.990466  22.293621    -0.042660\n",
            "2016-07-31  24.296782  24.380733  24.177851  24.301445     0.090063\n",
            "2016-08-31  24.773058  24.986415  24.768367  24.876219     0.023652\n",
            "2016-09-30  26.367390  26.580749  26.212647  26.505722     0.065504\n",
            "2016-10-31  26.646394  26.782382  26.540886  26.620604     0.004334\n",
            "2016-11-30  26.300088  26.441486  25.986654  26.045570    -0.021601\n",
            "2016-12-31  27.490193  27.619807  27.202683  27.294592     0.047955\n",
            "2016-10-31  26.646394  26.782382  26.540886  26.620604          NaN\n",
            "2016-11-30  26.300088  26.441486  25.986654  26.045570          NaN\n",
            "2016-12-31  27.490193  27.619807  27.202683  27.294592          NaN\n",
            "2017-01-31  28.550681  28.607239  28.425779  28.597813          NaN\n",
            "2017-02-28  32.444870  32.530077  32.354928  32.423569          NaN\n",
            "2017-03-31  34.016455  34.146633  33.848407  34.002254          NaN\n",
            "2017-04-30  34.104039  34.153745  33.909959  33.999897          NaN\n"
          ]
        }
      ]
    },
    {
      "cell_type": "markdown",
      "metadata": {
        "id": "ETbywK3TokUu"
      },
      "source": [
        "Tenga en cuenta que si los dos DataFrame tienen algunas columnas con los mismos nombres de columna, estas columnas se consideran iguales y se fusionarán. Es muy importante tener los nombres de columna correctos. Si cambiamos el nombre de una columna aquí:"
      ]
    },
    {
      "cell_type": "code",
      "metadata": {
        "colab": {
          "base_uri": "https://localhost:8080/"
        },
        "id": "_EsPeEF2okF_",
        "outputId": "63fa422f-2797-4c3c-a025-c2fee5054819"
      },
      "source": [
        "df_2017.columns = ['Change', 'High','Low','Close']\n",
        "concat = pd.concat([aapl_bar, df_2017], axis = 0)\n",
        "print(concat)"
      ],
      "execution_count": 195,
      "outputs": [
        {
          "output_type": "stream",
          "name": "stdout",
          "text": [
            "                 Open       High        Low      Close  rate_return     Change\n",
            "Date                                                                          \n",
            "2016-01-31  21.852384  22.440247  21.750948  22.440247          NaN        NaN\n",
            "2016-02-29  22.450755  22.768302  22.402081  22.411352    -0.001288        NaN\n",
            "2016-03-31  25.431520  25.473242  25.236819  25.262316     0.127211        NaN\n",
            "2016-04-30  21.785533  21.954737  21.442491  21.727587    -0.139921        NaN\n",
            "2016-05-31  23.226409  23.412967  23.044516  23.287041     0.071773        NaN\n",
            "2016-06-30  22.023114  22.333264  21.990466  22.293621    -0.042660        NaN\n",
            "2016-07-31  24.296782  24.380733  24.177851  24.301445     0.090063        NaN\n",
            "2016-08-31  24.773058  24.986415  24.768367  24.876219     0.023652        NaN\n",
            "2016-09-30  26.367390  26.580749  26.212647  26.505722     0.065504        NaN\n",
            "2016-10-31  26.646394  26.782382  26.540886  26.620604     0.004334        NaN\n",
            "2016-11-30  26.300088  26.441486  25.986654  26.045570    -0.021601        NaN\n",
            "2016-12-31  27.490193  27.619807  27.202683  27.294592     0.047955        NaN\n",
            "2016-10-31        NaN  26.782382  26.540886  26.620604          NaN  26.646394\n",
            "2016-11-30        NaN  26.441486  25.986654  26.045570          NaN  26.300088\n",
            "2016-12-31        NaN  27.619807  27.202683  27.294592          NaN  27.490193\n",
            "2017-01-31        NaN  28.607239  28.425779  28.597813          NaN  28.550681\n",
            "2017-02-28        NaN  32.530077  32.354928  32.423569          NaN  32.444870\n",
            "2017-03-31        NaN  34.146633  33.848407  34.002254          NaN  34.016455\n",
            "2017-04-30        NaN  34.153745  33.909959  33.999897          NaN  34.104039\n"
          ]
        }
      ]
    }
  ]
}