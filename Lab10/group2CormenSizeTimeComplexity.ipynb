{
  "nbformat": 4,
  "nbformat_minor": 0,
  "metadata": {
    "colab": {
      "name": "group2CormenSizeTimeComplexity.ipynb",
      "provenance": [],
      "collapsed_sections": []
    },
    "kernelspec": {
      "name": "python3",
      "display_name": "Python 3"
    },
    "language_info": {
      "name": "python"
    }
  },
  "cells": [
    {
      "cell_type": "markdown",
      "metadata": {
        "id": "9fIs_70_DJWM"
      },
      "source": [
        "# 2.(2.5  nanoseconds by instruction)\n",
        "\n",
        "Asuuming that you can execute a 400 million instructions $400 \\times 10^6$ every second, i.e. each instrcution takes 2.5  nanoseconds, 2.5 $\\eta s  = 2.5 \\times 10^{-9} s$. If you have algorithms take $\\bf{ Time\\ Complexity}$ steps to solve a poblem of size $n$ as specified in column one. What is the size of the largest porblem that you can solve in the time specified in row one?\n",
        "$$\n",
        "\\begin{array}{|c|c|c|c|c|c|c|c|} \n",
        " \\hline\n",
        " \\bf{ Time\\ Complexity} & Second  & Minute  & Hour & Day & Year & Century & Mileniun  \\\\ \n",
        "  \\hline\\\\ \n",
        "\\lg(n) &  2^{4\\times10^{8}}  & 2^{2.4\\times10^{10}}  & 2^{1.4\\times10^{12}} & 2^{3.5\\times10^{13}} & 2^{1.3\\times10^{16}} & 2^{1.3\\times10^{18}} & 2^{1.3\\times10^{19}} \\\\ \n",
        "   \\hline\\\\ \n",
        "\\lg^2(n) &  2^\\sqrt{4\\times10^{8}}  & 2^\\sqrt{2.4\\times10^{10}}  & 2^\\sqrt{1.4\\times10^{12}} & 2^\\sqrt{3.5\\times10^{13}} & 2^\\sqrt{1.3\\times10^{16}} & 2^\\sqrt{1.3\\times10^{18}} & 2^\\sqrt{1.3\\times10^{19}} \\\\\n",
        "   \\hline\\\\ \n",
        "\\sqrt{n} &  1.6\\times10^{17}  & 5.8\\times10^{20}  & 2.0\\times10^{24} & 1.2\\times10^{27} & 1.6\\times10^{32} & 1.6\\times10^{36} & 1.6\\times10^{38} \\\\ \n",
        " \\hline\n",
        " n &  4.0\\times10^{8}  & 2.4\\times10^{10}  & 1.4\\times10^{12} & 3.5\\times10^{13} & 1.3\\times10^{16} & 1.3\\times10^{18} &  1.3\\times10^{19}\\\\ \n",
        " \\hline\n",
        " n\\lg(n) &  1.7\\times10^{7}  & 8.1\\times10^{8}  & 4.4\\times10^{9} & 8.8\\times10^{11} & 2.7\\times10^{14} & 2.4\\times10^{16} & 2.3\\times10^{17} \\\\ \n",
        " \\hline\n",
        " n^2 &  2.0\\times10^{4}  & 1.5\\times10^{5}  & 1.2\\times10^{6} & 5.9\\times10^{6} & 1.1\\times10^{8} & 1.1\\times10^{9} &  3.6\\times10^{9}\\\\ \n",
        " \\hline\n",
        "  n^3 &  736  &  2884 & 11292 & 32554 & 232696 & 1080082.3 & 2326966.8 \\\\ \n",
        " \\hline\n",
        "  n^4 &  141  & 393  & 1095 & 2423 & 10594 & 33503 & 59578 \\\\ \n",
        " \\hline\n",
        "  2^n &  28  &  34 & 40 & 44 & 53 & 60 & 63 \\\\ \n",
        " \\hline\n",
        " n! & 11 & 13 & 15 & 16 & 18 & 19 & 20 \\\\ \n",
        " \\hline\n",
        " n^n & 9 & 10 & 11 & 12 & 14 & 15 & 15 \\\\ \n",
        " \\hline\n",
        "\\end{array}\n",
        "$$"
      ]
    },
    {
      "cell_type": "markdown",
      "source": [
        "## Time Complexity lg(n) [Full]\n",
        "\n",
        "### Second\n",
        "$$lg(n) \\times 2.5*10^{-9}s \\leq 1s$$\n",
        "$$lg(n) \\leq \\frac{1\\times10^{9}}{2.5}$$\n",
        "$$n <= 2^{400000000}$$\n",
        "\n",
        "### Minute\n",
        "$$lg(n) \\times 2.5*10^{-9}s \\leq 60s$$\n",
        "$$lg(n) \\leq \\frac{60\\times10^{9}}{2.5}$$\n",
        "$$n <= 2^{24000000000}$$\n",
        "\n",
        "### Hour\n",
        "$$lg(n) \\times 2.5*10^{-9}s \\leq 3600s$$\n",
        "$$lg(n) \\leq \\frac{3600\\times10^{9}}{2.5}$$\n",
        "$$n <= 2^{144000000000}$$\n",
        "\n",
        "### Day\n",
        "$$lg(n) \\times 2.5*10^{-9}s \\leq 86400$$\n",
        "$$lg(n) \\leq \\frac{86400\\times10^{9}}{2.5}$$\n",
        "$$n <= 2^{3.456E13}$$\n",
        "\n",
        "### Year\n",
        "$$lg(n) \\times 2.5*10^{-9}s \\leq 3.154E7$$\n",
        "$$lg(n) \\leq \\frac{3.154E7\\times10^{9}}{2.5}$$\n",
        "$$n <= 2^{1.2616E16}$$\n",
        "\n",
        "### Century\n",
        "$$lg(n) \\times 2.5*10^{-9}s \\leq 3.154E9$$\n",
        "$$lg(n) \\leq \\frac{3.154E9\\times10^{9}}{2.5}$$\n",
        "$$n <= 2^{1.2616E18}$$\n",
        "\n",
        "### Millenium\n",
        "$$lg(n) \\times 2.5*10^{-9}s \\leq 3.154E10$$\n",
        "$$lg(n) \\leq \\frac{3.154E10\\times10^{9}}{2.5}$$\n",
        "$$n <= 2^{1.2616E19}$$\n",
        "\n",
        "$$\n",
        "\\begin{array}{|c|c|c|c|c|c|c|c|} \n",
        " \\hline\n",
        " \\bf{ Time\\ Complexity} & Second  & Minute  & Hour & Day & Year & Century & Mileniun  \\\\ \n",
        "  \\hline\\\\ \n",
        "\\lg(n) &  2^{4\\times10^{8}}  & 2^{2.4\\times10^{10}}  & 2^{1.4\\times10^{11}} & 2^{3.5\\times10^{13}} & 2^{1.3\\times10^{16}} & 2^{1.3\\times10^{18}} & 2^{1.3\\times10^{19}} \\\\\n",
        "\\hline \n",
        "\\end{array}\n",
        "$$"
      ],
      "metadata": {
        "id": "eu8gsiqwfRKD"
      }
    },
    {
      "cell_type": "code",
      "source": [
        "import math\n",
        "times = {'Second\\t':1, 'Minute\\t':60, 'Hour\\t':3600, 'Day\\t':86400, 'Year\\t':3.154e7, 'Century':3.154e9, 'Millenium':3.154e10}\n",
        "tfi = 2.5e-9\n",
        "\n",
        "for time in times: \n",
        "  print(time, '\\t2^'+str(times[time]/tfi ))"
      ],
      "metadata": {
        "colab": {
          "base_uri": "https://localhost:8080/"
        },
        "id": "BL1iVOiCjx58",
        "outputId": "e5a3ec58-85cd-4078-9fd1-7f0bce6686a6"
      },
      "execution_count": 1,
      "outputs": [
        {
          "output_type": "stream",
          "name": "stdout",
          "text": [
            "Second\t \t2^400000000.0\n",
            "Minute\t \t2^24000000000.0\n",
            "Hour\t \t2^1440000000000.0\n",
            "Day\t \t2^34560000000000.0\n",
            "Year\t \t2^1.2616e+16\n",
            "Century \t2^1.2616e+18\n",
            "Millenium \t2^1.2616e+19\n"
          ]
        }
      ]
    },
    {
      "cell_type": "markdown",
      "source": [
        "## Time Complexity $lg^2(n)$\n",
        "\n",
        "### For any: time\n",
        "$$lg^2(n) \\times 2.5*10^{-9} \\leq time$$\n",
        "$$lg^2(n) \\leq \\frac{time\\times10^{9}}{2.5}$$\n",
        "$$lg(n) \\leq \\sqrt{\\frac{time\\times10^{9}}{2.5}}$$\n",
        "$$n <= 2^\\sqrt{\\frac{time\\times10^{9}}{2.5}}$$\n",
        "\n",
        "### Second\n",
        "$$lg^2(n) \\times 2.5*10^{-9} \\leq 1$$\n",
        "$$lg^2(n) \\leq \\frac{1\\times10^{9}}{2.5}$$\n",
        "$$lg(n) \\leq \\sqrt{\\frac{1\\times10^{9}}{2.5}}$$\n",
        "$$n <= 2^\\sqrt{\\frac{1\\times10^{9}}{2.5}}$$\n",
        "\n",
        "### Minute\n",
        "$$lg^2(n) \\times 2.5*10^{-9} \\leq 60$$\n",
        "$$lg^2(n) \\leq \\frac{60\\times10^{9}}{2.5}$$\n",
        "$$lg(n) \\leq \\sqrt{\\frac{60\\times10^{9}}{2.5}}$$\n",
        "$$n <= 2^\\sqrt{\\frac{60\\times10^{9}}{2.5}}$$\n",
        "\n",
        "### Hour\n",
        "$$lg^2(n) \\times 2.5*10^{-9} \\leq 3600$$\n",
        "$$lg^2(n) \\leq \\frac{3600\\times10^{9}}{2.5}$$\n",
        "$$lg(n) \\leq \\sqrt{\\frac{3600\\times10^{9}}{2.5}}$$\n",
        "$$n <= 2^\\sqrt{\\frac{3600\\times10^{9}}{2.5}}$$\n",
        "\n",
        "### Day\n",
        "$$lg^2(n) \\times 2.5*10^{-9} \\leq 86400$$\n",
        "$$lg^2(n) \\leq \\frac{86400\\times10^{9}}{2.5}$$\n",
        "$$lg(n) \\leq \\sqrt{\\frac{86400\\times10^{9}}{2.5}}$$\n",
        "$$n <= 2^\\sqrt{\\frac{86400\\times10^{9}}{2.5}}$$\n",
        "\n",
        "### Year\n",
        "$$lg^2(n) \\times 2.5*10^{-9} \\leq 3.15E7$$\n",
        "$$lg^2(n) \\leq \\frac{3.15E7\\times10^{9}}{2.5}$$\n",
        "$$lg(n) \\leq \\sqrt{\\frac{3.15E7\\times10^{9}}{2.5}}$$\n",
        "$$n <= 2^\\sqrt{\\frac{3.15E7\\times10^{9}}{2.5}}$$\n",
        "\n",
        "### Century\n",
        "$$lg^2(n) \\times 2.5*10^{-9} \\leq 3.15E9$$\n",
        "$$lg^2(n) \\leq \\frac{3.15E9\\times10^{9}}{2.5}$$\n",
        "$$lg(n) \\leq \\sqrt{\\frac{3.15E9\\times10^{9}}{2.5}}$$\n",
        "$$n <= 2^\\sqrt{\\frac{3.15E9\\times10^{9}}{2.5}}$$\n",
        "\n",
        "### Millenium\n",
        "$$lg^2(n) \\times 2.5*10^{-9} \\leq 3.15E10$$\n",
        "$$lg^2(n) \\leq \\frac{3.15E10\\times10^{9}}{2.5}$$\n",
        "$$lg(n) \\leq \\sqrt{\\frac{3.15E10\\times10^{9}}{2.5}}$$\n",
        "$$n <= 2^\\sqrt{\\frac{3.15E10\\times10^{9}}{2.5}}$$\n",
        "\n",
        "$$\n",
        "\\begin{array}{|c|c|c|c|c|c|c|c|} \n",
        " \\hline\n",
        " \\bf{ Time\\ Complexity} & Second  & Minute  & Hour & Day & Year & Century & Mileniun  \\\\ \n",
        "  \\hline\\\\ \n",
        "\\lg^2(n) &  2^\\sqrt{4\\times10^{8}}  & 2^\\sqrt{2.4\\times10^{10}}  & 2^\\sqrt{1.4\\times10^{11}} & 2^\\sqrt{3.5\\times10^{13}} & 2^\\sqrt{1.3\\times10^{16}} & 2^\\sqrt{1.3\\times10^{18}} & 2^\\sqrt{1.3\\times10^{19}} \\\\\n",
        "\\hline \n",
        "\\end{array}\n",
        "$$"
      ],
      "metadata": {
        "id": "krTrDnAHlI5r"
      }
    },
    {
      "cell_type": "code",
      "source": [
        "for time in times: \n",
        "  print(time, '\\t2^'+str(math.sqrt(times[time]/tfi) ))"
      ],
      "metadata": {
        "colab": {
          "base_uri": "https://localhost:8080/"
        },
        "id": "zB3lWuoKlsDr",
        "outputId": "f5d50ce4-a0ba-4daf-9fea-c5de84eeb445"
      },
      "execution_count": 2,
      "outputs": [
        {
          "output_type": "stream",
          "name": "stdout",
          "text": [
            "Second\t \t2^20000.0\n",
            "Minute\t \t2^154919.33384829666\n",
            "Hour\t \t2^1200000.0\n",
            "Day\t \t2^5878775.382679627\n",
            "Year\t \t2^112320968.65679178\n",
            "Century \t2^1123209686.5679178\n",
            "Millenium \t2^3551900899.5184536\n"
          ]
        }
      ]
    },
    {
      "cell_type": "markdown",
      "source": [
        "### Time Complexity for $\\sqrt{n}$\n",
        "\n",
        "### For any: time\n",
        "$$\\sqrt{n} \\times 2.5*10^{-9} \\leq time$$\n",
        "$$\\sqrt{n} \\leq \\frac{time\\times10^{9}}{2.5}$$\n",
        "$$n <= {(\\frac{time\\times10^{9}}{2.5})}^2$$\n",
        "\n",
        "### Second\n",
        "$$\\sqrt{n} \\times 2.5*10^{-9} \\leq 1$$\n",
        "$$\\sqrt{n} \\leq \\frac{1\\times10^{9}}{2.5}$$\n",
        "$$n <= {(\\frac{1\\times10^{9}}{2.5})}^2$$\n",
        "\n",
        "### Minute\n",
        "$$\\sqrt{n} \\times 2.5*10^{-9} \\leq 60$$\n",
        "$$\\sqrt{n} \\leq \\frac{60\\times10^{9}}{2.5}$$\n",
        "$$n <= {(\\frac{60\\times10^{9}}{2.5})}^2$$\n",
        "\n",
        "### Hour\n",
        "$$\\sqrt{n} \\times 2.5*10^{-9} \\leq 3600$$\n",
        "$$\\sqrt{n} \\leq \\frac{3600\\times10^{9}}{2.5}$$\n",
        "$$n <= {(\\frac{3600\\times10^{9}}{2.5})}^2$$\n",
        "\n",
        "### Day\n",
        "$$\\sqrt{n} \\times 2.5*10^{-9} \\leq 86400$$\n",
        "$$\\sqrt{n} \\leq \\frac{86400\\times10^{9}}{2.5}$$\n",
        "$$n <= {(\\frac{86400\\times10^{9}}{2.5})}^2$$\n",
        "\n",
        "### Year\n",
        "$$\\sqrt{n} \\times 2.5*10^{-9} \\leq 3.15E7$$\n",
        "$$\\sqrt{n} \\leq \\frac{3.15E7\\times10^{9}}{2.5}$$\n",
        "$$n <= {(\\frac{3.15E7\\times10^{9}}{2.5})}^2$$\n",
        "\n",
        "### Century\n",
        "$$\\sqrt{n} \\times 2.5*10^{-9} \\leq 3.15E9$$\n",
        "$$\\sqrt{n} \\leq \\frac{3.15E9\\times10^{9}}{2.5}$$\n",
        "$$n <= {(\\frac{3.15E9\\times10^{9}}{2.5})}^2$$\n",
        "\n",
        "### Millenium\n",
        "$$\\sqrt{n} \\times 2.5*10^{-9} \\leq 3.15E10$$\n",
        "$$\\sqrt{n} \\leq \\frac{3.15E10\\times10^{9}}{2.5}$$\n",
        "$$n <= {(\\frac{3.15E10\\times10^{9}}{2.5})}^2$$\n",
        "\n",
        "$$\n",
        "\\begin{array}{|c|c|c|c|c|c|c|c|} \n",
        " \\hline\n",
        " \\bf{ Time\\ Complexity} & Second  & Minute  & Hour & Day & Year & Century & Mileniun  \\\\ \n",
        "  \\hline\\\\ \n",
        "\\sqrt{n} &  1.6\\times10^{17}  & 5.8\\times10^{20}  & 2.0\\times10^{24} & 1.2\\times10^{27} & 1.6\\times10^{32} & 1.6\\times10^{36} & 1.6\\times10^{38} \\\\\n",
        "\\hline \n",
        "\\end{array}\n",
        "$$"
      ],
      "metadata": {
        "id": "BXoV8bSVl3xD"
      }
    },
    {
      "cell_type": "code",
      "source": [
        "for time in times: \n",
        "  print(time, '\\t'+str((times[time]/tfi)**2 ))"
      ],
      "metadata": {
        "colab": {
          "base_uri": "https://localhost:8080/"
        },
        "id": "6bqqRvrrmb9z",
        "outputId": "aef77f7b-9885-4757-90ae-ee4bba4a58eb"
      },
      "execution_count": 3,
      "outputs": [
        {
          "output_type": "stream",
          "name": "stdout",
          "text": [
            "Second\t \t1.6e+17\n",
            "Minute\t \t5.76e+20\n",
            "Hour\t \t2.0736e+24\n",
            "Day\t \t1.1943936e+27\n",
            "Year\t \t1.59163456e+32\n",
            "Century \t1.59163456e+36\n",
            "Millenium \t1.59163456e+38\n"
          ]
        }
      ]
    },
    {
      "cell_type": "markdown",
      "source": [
        "### Time Complexity for $n$\n",
        "\n",
        "### For any: time\n",
        "$$n \\times 2.5*10^{-9} \\leq time$$\n",
        "$$n \\leq \\frac{time\\times10^{9}}{2.5}$$\n",
        "\n",
        "### Second\n",
        "$$n \\times 2.5*10^{-9} \\leq 1$$\n",
        "$$n \\leq \\frac{1\\times10^{9}}{2.5}$$\n",
        "\n",
        "### Minute\n",
        "$$n \\times 2.5*10^{-9} \\leq 60$$\n",
        "$$n \\leq \\frac{60\\times10^{9}}{2.5}$$\n",
        "\n",
        "### Hour\n",
        "$$n \\times 2.5*10^{-9} \\leq 3600$$\n",
        "$$n \\leq \\frac{3600\\times10^{9}}{2.5}$$\n",
        "\n",
        "### Day\n",
        "$$n \\times 2.5*10^{-9} \\leq 86400$$\n",
        "$$n \\leq \\frac{86400\\times10^{9}}{2.5}$$\n",
        "\n",
        "### Year\n",
        "$$n \\times 2.5*10^{-9} \\leq 3.15E7$$\n",
        "$$n \\leq \\frac{3.15E7\\times10^{9}}{2.5}$$\n",
        "\n",
        "### Century\n",
        "$$n \\times 2.5*10^{-9} \\leq 3.15E9$$\n",
        "$$n \\leq \\frac{3.15E9\\times10^{9}}{2.5}$$\n",
        "\n",
        "### Millenium\n",
        "$$n \\times 2.5*10^{-9} \\leq 3.15E10$$\n",
        "$$n \\leq \\frac{3.15E10\\times10^{9}}{2.5}$$\n",
        "\n",
        "$$\n",
        "\\begin{array}{|c|c|c|c|c|c|c|c|} \n",
        " \\hline\n",
        " \\bf{ Time\\ Complexity} & Second  & Minute  & Hour & Day & Year & Century & Mileniun  \\\\ \n",
        "  \\hline\\\\ \n",
        " n &  4.0\\times10^{8}  & 2.4\\times10^{10}  & 1.4\\times10^{12} & 3.5\\times10^{13} & 1.3\\times10^{16} & 1.3\\times10^{18} &  1.3\\times10^{19}\\\\ \n",
        "\\hline \n",
        "\\end{array}\n",
        "$$"
      ],
      "metadata": {
        "id": "F5a4tzbOm277"
      }
    },
    {
      "cell_type": "code",
      "source": [
        "for time in times: \n",
        "  print(time, '\\t'+str((times[time]/tfi) ))"
      ],
      "metadata": {
        "colab": {
          "base_uri": "https://localhost:8080/"
        },
        "id": "bUQpQ9OFm-xS",
        "outputId": "9c356445-df29-4084-e518-11381f0eb305"
      },
      "execution_count": 4,
      "outputs": [
        {
          "output_type": "stream",
          "name": "stdout",
          "text": [
            "Second\t \t400000000.0\n",
            "Minute\t \t24000000000.0\n",
            "Hour\t \t1440000000000.0\n",
            "Day\t \t34560000000000.0\n",
            "Year\t \t1.2616e+16\n",
            "Century \t1.2616e+18\n",
            "Millenium \t1.2616e+19\n"
          ]
        }
      ]
    },
    {
      "cell_type": "markdown",
      "source": [
        "### Time Complexity for $n\\times lg(n)$ [Solved using Wolfram]\n",
        "\n",
        "### Table\n",
        "$$\n",
        "\\begin{array}{|c|c|c|c|c|c|c|c|} \n",
        " \\hline\n",
        " \\bf{ Time\\ Complexity} & Second  & Minute  & Hour & Day & Year & Century & Mileniun  \\\\ \n",
        "  \\hline\\\\ \n",
        " n\\lg(n) &  1.7\\times10^{7}  & 8.1\\times10^{8}  & 4.4\\times10^{9} & 8.8\\times10^{11} & 2.7\\times10^{14} & 2.4\\times10^{16} & 2.3\\times10^{17} \\\\ \n",
        "\\hline \n",
        "\\end{array}\n",
        "$$"
      ],
      "metadata": {
        "id": "-xt9iq8DnPBC"
      }
    },
    {
      "cell_type": "markdown",
      "source": [
        "### Time Complexity for $n^2$\n",
        "\n",
        "### For any: time\n",
        "$$n^2 \\times 2.5*10^{-9} \\leq time$$\n",
        "$$n^2 \\leq \\frac{time\\times10^{9}}{2.5}$$\n",
        "$$n \\leq \\sqrt{\\frac{time\\times10^{9}}{2.5}}$$\n",
        "\n",
        "### Second\n",
        "$$n^2 \\times 2.5*10^{-9} \\leq 1$$\n",
        "$$n^2 \\leq \\frac{1\\times10^{9}}{2.5}$$\n",
        "$$n \\leq \\sqrt{\\frac{1\\times10^{9}}{2.5}}$$\n",
        "\n",
        "### Minute\n",
        "$$n^2 \\times 2.5*10^{-9} \\leq 60$$\n",
        "$$n^2 \\leq \\frac{60\\times10^{9}}{2.5}$$\n",
        "$$n \\leq \\sqrt{\\frac{60\\times10^{9}}{2.5}}$$\n",
        "\n",
        "### Hour\n",
        "$$n^2 \\times 2.5*10^{-9} \\leq 3600$$\n",
        "$$n^2 \\leq \\frac{3600\\times10^{9}}{2.5}$$\n",
        "$$n \\leq \\sqrt{\\frac{3600\\times10^{9}}{2.5}}$$\n",
        "\n",
        "### Day\n",
        "$$n^2 \\times 2.5*10^{-9} \\leq 86400$$\n",
        "$$n^2 \\leq \\frac{86400\\times10^{9}}{2.5}$$\n",
        "$$n \\leq \\sqrt{\\frac{86400\\times10^{9}}{2.5}}$$\n",
        "\n",
        "### Year\n",
        "$$n^2 \\times 2.5*10^{-9} \\leq 3.15E7$$\n",
        "$$n^2 \\leq \\frac{3.15E7\\times10^{9}}{2.5}$$\n",
        "$$n \\leq \\sqrt{\\frac{3.15E7\\times10^{9}}{2.5}}$$\n",
        "\n",
        "### Century\n",
        "$$n^2 \\times 2.5*10^{-9} \\leq 3.15E9$$\n",
        "$$n^2 \\leq \\frac{3.15E9\\times10^{9}}{2.5}$$\n",
        "$$n \\leq \\sqrt{\\frac{3.15E9\\times10^{9}}{2.5}}$$\n",
        "\n",
        "### Millenium\n",
        "$$n^2 \\times 2.5*10^{-9} \\leq 3.15E10$$\n",
        "$$n^2 \\leq \\frac{3.15E10\\times10^{9}}{2.5}$$\n",
        "$$n \\leq \\sqrt{\\frac{3.15E10\\times10^{9}}{2.5}}$$\n",
        "\n",
        "### Table\n",
        "$$\n",
        "\\begin{array}{|c|c|c|c|c|c|c|c|} \n",
        " \\hline\n",
        " \\bf{ Time\\ Complexity} & Second  & Minute  & Hour & Day & Year & Century & Mileniun  \\\\ \n",
        "  \\hline\\\\ \n",
        " n^2 &  2.0\\times10^{4}  & 1.5\\times10^{5}  & 1.2\\times10^{6} & 5.9\\times10^{6} & 1.1\\times10^{8} & 1.1\\times10^{9} &  3.6\\times10^{9}\\\\ \n",
        "\\hline \n",
        "\\end{array}\n",
        "$$"
      ],
      "metadata": {
        "id": "e0DjDR7upJ1d"
      }
    },
    {
      "cell_type": "code",
      "source": [
        "for time in times: \n",
        "  print(time, '\\t'+str(math.sqrt(times[time]/tfi) ))"
      ],
      "metadata": {
        "colab": {
          "base_uri": "https://localhost:8080/"
        },
        "id": "IUXvXzcWpVKk",
        "outputId": "05abfe5f-9448-4cfc-84cd-26ab736f7807"
      },
      "execution_count": 6,
      "outputs": [
        {
          "output_type": "stream",
          "name": "stdout",
          "text": [
            "Second\t \t20000.0\n",
            "Minute\t \t154919.33384829666\n",
            "Hour\t \t1200000.0\n",
            "Day\t \t5878775.382679627\n",
            "Year\t \t112320968.65679178\n",
            "Century \t1123209686.5679178\n",
            "Millenium \t3551900899.5184536\n"
          ]
        }
      ]
    },
    {
      "cell_type": "markdown",
      "source": [
        "### Time Complexity for $n^3$\n",
        "\n",
        "### For any: time\n",
        "$$n^3 \\times 2.5*10^{-9} \\leq time$$\n",
        "$$n^3 \\leq \\frac{time\\times10^{9}}{2.5}$$\n",
        "$$n \\leq {\\frac{time\\times10^{9}}{2.5}}^{1/3}$$\n",
        "\n",
        "### Second\n",
        "$$n^3 \\times 2.5*10^{-9} \\leq 1$$\n",
        "$$n^3 \\leq \\frac{1\\times10^{9}}{2.5}$$\n",
        "$$n \\leq {\\frac{1\\times10^{9}}{2.5}}^{1/3}$$\n",
        "\n",
        "### Minute\n",
        "$$n^3 \\times 2.5*10^{-9} \\leq 60$$\n",
        "$$n^3 \\leq \\frac{60\\times10^{9}}{2.5}$$\n",
        "$$n \\leq {\\frac{60\\times10^{9}}{2.5}}^{1/3}$$\n",
        "\n",
        "### Hour\n",
        "$$n^3 \\times 2.5*10^{-9} \\leq 3600$$\n",
        "$$n^3 \\leq \\frac{3600\\times10^{9}}{2.5}$$\n",
        "$$n \\leq {\\frac{3600\\times10^{9}}{2.5}}^{1/3}$$\n",
        "\n",
        "### Day\n",
        "$$n^3 \\times 2.5*10^{-9} \\leq 86400$$\n",
        "$$n^3 \\leq \\frac{86400\\times10^{9}}{2.5}$$\n",
        "$$n \\leq {\\frac{86400\\times10^{9}}{2.5}}^{1/3}$$\n",
        "\n",
        "### Year\n",
        "$$n^3 \\times 2.5*10^{-9} \\leq 3.15E7$$\n",
        "$$n^3 \\leq \\frac{3.15E7\\times10^{9}}{2.5}$$\n",
        "$$n \\leq {\\frac{3.15E7\\times10^{9}}{2.5}}^{1/3}$$\n",
        "\n",
        "### Century\n",
        "$$n^3 \\times 2.5*10^{-9} \\leq 3.15E9$$\n",
        "$$n^3 \\leq \\frac{3.15E9\\times10^{9}}{2.5}$$\n",
        "$$n \\leq {\\frac{3.15E9\\times10^{9}}{2.5}}^{1/3}$$\n",
        "\n",
        "### Millenium\n",
        "$$n^3 \\times 2.5*10^{-9} \\leq 3.15E10$$\n",
        "$$n^3 \\leq \\frac{3.15E10\\times10^{9}}{2.5}$$\n",
        "$$n \\leq {\\frac{3.15E10\\times10^{9}}{2.5}}^{1/3}$$\n",
        "\n",
        "### Table\n",
        "$$\n",
        "\\begin{array}{|c|c|c|c|c|c|c|c|} \n",
        " \\hline\n",
        " \\bf{ Time\\ Complexity} & Second  & Minute  & Hour & Day & Year & Century & Mileniun  \\\\ \n",
        "  \\hline\\\\ \n",
        "n^3 &  736  &  2884 & 11292 & 32554 & 232696 & 1080082.3 & 2326966.8 \\\\ \n",
        "\\hline \n",
        "\\end{array}\n",
        "$$"
      ],
      "metadata": {
        "id": "sCb5_wzHpkP8"
      }
    },
    {
      "cell_type": "code",
      "source": [
        "for time in times: \n",
        "  print(time, '\\t'+str(math.pow(times[time]/tfi, 1/3) ))"
      ],
      "metadata": {
        "colab": {
          "base_uri": "https://localhost:8080/"
        },
        "id": "uPXAhNUbqKUL",
        "outputId": "bfb53b05-d405-4a34-9e20-e237c2a47236"
      },
      "execution_count": 7,
      "outputs": [
        {
          "output_type": "stream",
          "name": "stdout",
          "text": [
            "Second\t \t736.8062997280771\n",
            "Minute\t \t2884.4991406148156\n",
            "Hour\t \t11292.432346572336\n",
            "Day\t \t32573.01139913886\n",
            "Year\t \t232795.13143103445\n",
            "Century \t1080539.2825697085\n",
            "Millenium \t2327951.314310344\n"
          ]
        }
      ]
    },
    {
      "cell_type": "markdown",
      "source": [
        "### Time Complexity for $n^4$\n",
        "\n",
        "### For any: time\n",
        "$$n^4 \\times 2.5*10^{-9} \\leq time$$\n",
        "$$n^4 \\leq \\frac{time\\times10^{9}}{2.5}$$\n",
        "$$n \\leq {\\frac{time\\times10^{9}}{2.5}}^{1/4}$$\n",
        "\n",
        "### Second\n",
        "$$n^4 \\times 2.5*10^{-9} \\leq 1$$\n",
        "$$n^4 \\leq \\frac{1\\times10^{9}}{2.5}$$\n",
        "$$n \\leq {\\frac{1\\times10^{9}}{2.5}}^{1/4}$$\n",
        "\n",
        "### Minute\n",
        "$$n^4 \\times 2.5*10^{-9} \\leq 60$$\n",
        "$$n^4 \\leq \\frac{60\\times10^{9}}{2.5}$$\n",
        "$$n \\leq {\\frac{60\\times10^{9}}{2.5}}^{1/4}$$\n",
        "\n",
        "### Hour\n",
        "$$n^4 \\times 2.5*10^{-9} \\leq 3600$$\n",
        "$$n^4 \\leq \\frac{3600\\times10^{9}}{2.5}$$\n",
        "$$n \\leq {\\frac{3600\\times10^{9}}{2.5}}^{1/4}$$\n",
        "\n",
        "### Day\n",
        "$$n^4 \\times 2.5*10^{-9} \\leq 86400$$\n",
        "$$n^4 \\leq \\frac{86400\\times10^{9}}{2.5}$$\n",
        "$$n \\leq {\\frac{86400\\times10^{9}}{2.5}}^{1/4}$$\n",
        "\n",
        "### Year\n",
        "$$n^4 \\times 2.5*10^{-9} \\leq 3.15E7$$\n",
        "$$n^4 \\leq \\frac{3.15E7\\times10^{9}}{2.5}$$\n",
        "$$n \\leq {\\frac{3.15E7\\times10^{9}}{2.5}}^{1/4}$$\n",
        "\n",
        "### Century\n",
        "$$n^4 \\times 2.5*10^{-9} \\leq 3.15E9$$\n",
        "$$n^4 \\leq \\frac{3.15E9\\times10^{9}}{2.5}$$\n",
        "$$n \\leq {\\frac{3.15E9\\times10^{9}}{2.5}}^{1/4}$$\n",
        "\n",
        "### Millenium\n",
        "$$n^4 \\times 2.5*10^{-9} \\leq 3.15E10$$\n",
        "$$n^4 \\leq \\frac{3.15E10\\times10^{9}}{2.5}$$\n",
        "$$n \\leq {\\frac{3.15E10\\times10^{9}}{2.5}}^{1/4}$$\n",
        "\n",
        "### Table\n",
        "$$\n",
        "\\begin{array}{|c|c|c|c|c|c|c|c|} \n",
        " \\hline\n",
        " \\bf{ Time\\ Complexity} & Second  & Minute  & Hour & Day & Year & Century & Mileniun  \\\\ \n",
        "  \\hline\\\\ \n",
        "n^4 &  141  & 393  & 1095 & 2423 & 10594 & 33503 & 59578 \\\\ \n",
        "\\hline \n",
        "\\end{array}\n",
        "$$"
      ],
      "metadata": {
        "id": "gykCXcc2qUjr"
      }
    },
    {
      "cell_type": "code",
      "source": [
        "for time in times: \n",
        "  print(time, '\\t'+str(math.pow(times[time]/tfi, 1/4) ))"
      ],
      "metadata": {
        "colab": {
          "base_uri": "https://localhost:8080/"
        },
        "id": "nRv93oixqcWE",
        "outputId": "70a7f514-6cb9-4d53-ef53-73b2225483cb"
      },
      "execution_count": 8,
      "outputs": [
        {
          "output_type": "stream",
          "name": "stdout",
          "text": [
            "Second\t \t141.4213562373095\n",
            "Minute\t \t393.59793425308607\n",
            "Hour\t \t1095.4451150103323\n",
            "Day\t \t2424.618605611948\n",
            "Year\t \t10598.158738988192\n",
            "Century \t33514.32061922064\n",
            "Millenium \t59597.82629860299\n"
          ]
        }
      ]
    },
    {
      "cell_type": "markdown",
      "source": [
        "### Time Complexity for $2^n$\n",
        "\n",
        "### For any: time\n",
        "$$2^n \\times 2.5*10^{-9} \\leq time$$\n",
        "$$2^n \\leq \\frac{time\\times10^{9}}{2.5}$$\n",
        "$$n \\leq log_{2}({\\frac{time\\times10^{9}}{2.5}})$$\n",
        "\n",
        "### Second\n",
        "$$2^n \\times 2.5*10^{-9} \\leq 1$$\n",
        "$$2^n \\leq \\frac{1\\times10^{9}}{2.5}$$\n",
        "$$n \\leq log_{2}({\\frac{1\\times10^{9}}{2.5}})$$\n",
        "\n",
        "### Minute\n",
        "$$2^n \\times 2.5*10^{-9} \\leq 60$$\n",
        "$$2^n \\leq \\frac{60\\times10^{9}}{2.5}$$\n",
        "$$n \\leq log_{2}({\\frac{60\\times10^{9}}{2.5}})$$\n",
        "\n",
        "### Hour\n",
        "$$2^n \\times 2.5*10^{-9} \\leq 3600$$\n",
        "$$2^n \\leq \\frac{3600\\times10^{9}}{2.5}$$\n",
        "$$n \\leq log_{2}({\\frac{3600\\times10^{9}}{2.5}})$$\n",
        "\n",
        "### Day\n",
        "$$2^n \\times 2.5*10^{-9} \\leq 86400$$\n",
        "$$2^n \\leq \\frac{86400\\times10^{9}}{2.5}$$\n",
        "$$n \\leq log_{2}({\\frac{86400\\times10^{9}}{2.5}})$$\n",
        "\n",
        "### Year\n",
        "$$2^n \\times 2.5*10^{-9} \\leq 3.15E7$$\n",
        "$$2^n \\leq \\frac{3.15E7\\times10^{9}}{2.5}$$\n",
        "$$n \\leq log_{2}({\\frac{3.15E7\\times10^{9}}{2.5}})$$\n",
        "\n",
        "### Century\n",
        "$$2^n \\times 2.5*10^{-9} \\leq 3.15E9$$\n",
        "$$2^n \\leq \\frac{3.15E9\\times10^{9}}{2.5}$$\n",
        "$$n \\leq log_{2}({\\frac{3.15E9\\times10^{9}}{2.5}})$$\n",
        "\n",
        "### Millenium\n",
        "$$2^n \\times 2.5*10^{-9} \\leq 3.15E10$$\n",
        "$$2^n \\leq \\frac{3.15E10\\times10^{9}}{2.5}$$\n",
        "$$n \\leq log_{2}({\\frac{3.15E10\\times10^{9}}{2.5}})$$\n",
        "\n",
        "### Table\n",
        "$$\n",
        "\\begin{array}{|c|c|c|c|c|c|c|c|} \n",
        " \\hline\n",
        " \\bf{ Time\\ Complexity} & Second  & Minute  & Hour & Day & Year & Century & Mileniun  \\\\ \n",
        "  \\hline\\\\ \n",
        " 2^n &  28  &  34 & 40 & 44 & 53 & 60 & 63 \\\\ \n",
        "\\hline \n",
        "\\end{array}\n",
        "$$"
      ],
      "metadata": {
        "id": "_AJRsDLYqiSm"
      }
    },
    {
      "cell_type": "code",
      "source": [
        "for time in times: \n",
        "  print(time, '\\t'+str(math.log(times[time]/tfi, 2)))"
      ],
      "metadata": {
        "colab": {
          "base_uri": "https://localhost:8080/"
        },
        "id": "4MYGbUuQq7Qb",
        "outputId": "bd7dd9d9-6352-429a-eafe-2989993036fe"
      },
      "execution_count": 9,
      "outputs": [
        {
          "output_type": "stream",
          "name": "stdout",
          "text": [
            "Second\t \t28.575424759098897\n",
            "Minute\t \t34.48231535470742\n",
            "Hour\t \t40.38920595031593\n",
            "Day\t \t44.974168451037094\n",
            "Year\t \t53.48610408343886\n",
            "Century \t60.129960273213584\n",
            "Millenium \t63.451888368100946\n"
          ]
        }
      ]
    },
    {
      "cell_type": "markdown",
      "source": [
        "### Time Complexity for $n!$\n",
        "\n",
        "### For any: time\n",
        "$$n! \\times 2.5*10^{-9} \\leq time$$\n",
        "$$n! \\leq \\frac{time\\times10^{9}}{2.5}$$\n",
        "\n",
        "### Second\n",
        "$$n! \\times 2.5*10^{-9} \\leq 1$$\n",
        "$$n! \\leq \\frac{1\\times10^{9}}{2.5}$$\n",
        "\n",
        "### Minute\n",
        "$$n! \\times 2.5*10^{-9} \\leq 60$$\n",
        "$$n! \\leq \\frac{60\\times10^{9}}{2.5}$$\n",
        "\n",
        "### Hour\n",
        "$$n! \\times 2.5*10^{-9} \\leq 3600$$\n",
        "$$n! \\leq \\frac{3600\\times10^{9}}{2.5}$$\n",
        "\n",
        "### Day\n",
        "$$n! \\times 2.5*10^{-9} \\leq 86400$$\n",
        "$$n! \\leq \\frac{86400\\times10^{9}}{2.5}$$\n",
        "\n",
        "### Year\n",
        "$$n! \\times 2.5*10^{-9} \\leq 3.15E7$$\n",
        "$$n! \\leq \\frac{3.15E7\\times10^{9}}{2.5}$$\n",
        "\n",
        "### Century\n",
        "$$n! \\times 2.5*10^{-9} \\leq 3.15E9$$\n",
        "$$n! \\leq \\frac{3.15E9\\times10^{9}}{2.5}$$\n",
        "\n",
        "### Millenium\n",
        "$$n! \\times 2.5*10^{-9} \\leq 3.15E10$$\n",
        "$$n! \\leq \\frac{3.15E10\\times10^{9}}{2.5}$$\n",
        "\n",
        "### Table\n",
        "$$\n",
        "\\begin{array}{|c|c|c|c|c|c|c|c|} \n",
        " \\hline\n",
        " \\bf{ Time\\ Complexity} & Second  & Minute  & Hour & Day & Year & Century & Mileniun  \\\\ \n",
        "  \\hline\\\\ \n",
        " n! & 11 & 13 & 15 & 16 & 18 & 19 & 20 \\\\ \n",
        "\\hline \n",
        "\\end{array}\n",
        "$$"
      ],
      "metadata": {
        "id": "siVSr5h7rNsi"
      }
    },
    {
      "cell_type": "code",
      "source": [
        "def n_fac(n):\n",
        "  i = 1\n",
        "  while math.factorial(i) < n:i+=1\n",
        "  return i-1\n",
        "\n",
        "for time in times: \n",
        "  print(time, '\\t'+str(n_fac(times[time]/tfi)))"
      ],
      "metadata": {
        "colab": {
          "base_uri": "https://localhost:8080/"
        },
        "id": "HDraJpnNrS8G",
        "outputId": "3a8982e7-a7a0-4179-96b9-9ba87e053f5f"
      },
      "execution_count": 10,
      "outputs": [
        {
          "output_type": "stream",
          "name": "stdout",
          "text": [
            "Second\t \t11\n",
            "Minute\t \t13\n",
            "Hour\t \t15\n",
            "Day\t \t16\n",
            "Year\t \t18\n",
            "Century \t19\n",
            "Millenium \t20\n"
          ]
        }
      ]
    },
    {
      "cell_type": "markdown",
      "source": [
        "### Time Complexity for $n!$\n",
        "\n",
        "### For any: time\n",
        "$$n^n \\times 2.5*10^{-9} \\leq time$$\n",
        "$$n^n \\leq \\frac{time\\times10^{9}}{2.5}$$\n",
        "\n",
        "### Second\n",
        "$$n^n \\times 2.5*10^{-9} \\leq 1$$\n",
        "$$n^n \\leq \\frac{1\\times10^{9}}{2.5}$$\n",
        "\n",
        "### Minute\n",
        "$$n^n \\times 2.5*10^{-9} \\leq 60$$\n",
        "$$n^n \\leq \\frac{60\\times10^{9}}{2.5}$$\n",
        "\n",
        "### Hour\n",
        "$$n^n \\times 2.5*10^{-9} \\leq 3600$$\n",
        "$$n^n \\leq \\frac{3600\\times10^{9}}{2.5}$$\n",
        "\n",
        "### Day\n",
        "$$n^n \\times 2.5*10^{-9} \\leq 86400$$\n",
        "$$n^n \\leq \\frac{86400\\times10^{9}}{2.5}$$\n",
        "\n",
        "### Year\n",
        "$$n^n \\times 2.5*10^{-9} \\leq 3.15E7$$\n",
        "$$n^n \\leq \\frac{3.15E7\\times10^{9}}{2.5}$$\n",
        "\n",
        "### Century\n",
        "$$n^n \\times 2.5*10^{-9} \\leq 3.15E9$$\n",
        "$$n^n \\leq \\frac{3.15E9\\times10^{9}}{2.5}$$\n",
        "\n",
        "### Millenium\n",
        "$$n^n \\times 2.5*10^{-9} \\leq 3.15E10$$\n",
        "$$n^n \\leq \\frac{3.15E10\\times10^{9}}{2.5}$$\n",
        "\n",
        "### Table\n",
        "$$\n",
        "\\begin{array}{|c|c|c|c|c|c|c|c|} \n",
        " \\hline\n",
        " \\bf{ Time\\ Complexity} & Second  & Minute  & Hour & Day & Year & Century & Mileniun  \\\\ \n",
        "  \\hline\\\\ \n",
        " n^n & 9 & 10 & 11 & 12 & 14 & 15 & 15 \\\\ \n",
        "\\hline \n",
        "\\end{array}\n",
        "$$"
      ],
      "metadata": {
        "id": "hV3ffF8wsM3C"
      }
    },
    {
      "cell_type": "code",
      "source": [
        "def n_n(n):\n",
        "  i = 1\n",
        "  while i**i < n:i+=1\n",
        "  return i-1\n",
        "\n",
        "for time in times: \n",
        "  print(time, '\\t'+str(n_n(times[time]/tfi)))"
      ],
      "metadata": {
        "colab": {
          "base_uri": "https://localhost:8080/"
        },
        "id": "982JnHefsG1r",
        "outputId": "17e27d41-ff03-44ed-94ad-a1b6279aaef4"
      },
      "execution_count": 11,
      "outputs": [
        {
          "output_type": "stream",
          "name": "stdout",
          "text": [
            "Second\t \t9\n",
            "Minute\t \t10\n",
            "Hour\t \t11\n",
            "Day\t \t12\n",
            "Year\t \t14\n",
            "Century \t15\n",
            "Millenium \t15\n"
          ]
        }
      ]
    }
  ]
}